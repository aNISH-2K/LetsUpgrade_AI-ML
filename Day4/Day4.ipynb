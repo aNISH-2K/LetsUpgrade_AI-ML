{
 "cells": [
  {
   "cell_type": "markdown",
   "metadata": {},
   "source": [
    "# Question 1"
   ]
  },
  {
   "cell_type": "code",
   "execution_count": 6,
   "metadata": {},
   "outputs": [
    {
     "name": "stdout",
     "output_type": "stream",
     "text": [
      "Addition of (10+6j) and (5+3j) is : (15+9j)\n",
      "Subtraction of (10+6j) and (5+3j) is : (5+3j)\n",
      "Multiplication of (10+6j) and (5+3j) is : (32+60j)\n",
      "Division of (10+6j) and (5+3j) is : (2+0j)\n"
     ]
    }
   ],
   "source": [
    "num1 = 10 + 6j\n",
    "num2 = 5 + 3j\n",
    "add = num1 + num2\n",
    "sub = num1 - num2\n",
    "mul = num1 * num2\n",
    "div = num1 / num2\n",
    "print(\"Addition of\",num1,\"and\",num2,\"is :\",add)\n",
    "print(\"Subtraction of\",num1,\"and\",num2,\"is :\",sub)\n",
    "print(\"Multiplication of\",num1,\"and\",num2,\"is :\",mul)\n",
    "print(\"Division of\",num1,\"and\",num2,\"is :\",div)"
   ]
  },
  {
   "cell_type": "markdown",
   "metadata": {},
   "source": [
    "# Question 2"
   ]
  },
  {
   "cell_type": "raw",
   "metadata": {},
   "source": [
    "range() function returns an immutable sequence of numbers.\n",
    "Syntax:\n",
    "    range(stop)\n",
    "    range(start,stop,[step])\n",
    "parameters:\n",
    "    start = It is the integer from which the sequence should begin.\n",
    "    stop = It is the integer before which the sequence should end.\n",
    "    step(optional) = It is theinteger value which determines the increment between each integer in the sequence"
   ]
  },
  {
   "cell_type": "code",
   "execution_count": 7,
   "metadata": {},
   "outputs": [
    {
     "name": "stdout",
     "output_type": "stream",
     "text": [
      "0\n",
      "1\n",
      "2\n",
      "3\n",
      "4\n",
      "5\n"
     ]
    }
   ],
   "source": [
    "#example of range(stop) function\n",
    "for i in range(6):\n",
    "    print(i)"
   ]
  },
  {
   "cell_type": "code",
   "execution_count": 9,
   "metadata": {},
   "outputs": [
    {
     "name": "stdout",
     "output_type": "stream",
     "text": [
      "6\n",
      "9\n",
      "12\n",
      "15\n",
      "18\n",
      "21\n",
      "24\n",
      "27\n",
      "30\n",
      "33\n",
      "36\n",
      "39\n",
      "42\n"
     ]
    }
   ],
   "source": [
    "#example of range(start, stop , [stop]) function\n",
    "for i in range(6, 45,3):\n",
    "    print(i)"
   ]
  },
  {
   "cell_type": "markdown",
   "metadata": {},
   "source": [
    "# Question 3"
   ]
  },
  {
   "cell_type": "code",
   "execution_count": 11,
   "metadata": {},
   "outputs": [
    {
     "name": "stdout",
     "output_type": "stream",
     "text": [
      "Division is : 1.9230769230769231\n"
     ]
    }
   ],
   "source": [
    "num1 = 50 \n",
    "num2 = 26\n",
    "result = num1 - num2\n",
    "if result > 25:\n",
    "    print(\"Multiplication is :\",num1*num2)\n",
    "else:\n",
    "    print(\"Division is :\",num1/num2)"
   ]
  },
  {
   "cell_type": "markdown",
   "metadata": {},
   "source": [
    "# Question 4"
   ]
  },
  {
   "cell_type": "code",
   "execution_count": 18,
   "metadata": {},
   "outputs": [
    {
     "name": "stdout",
     "output_type": "stream",
     "text": [
      "Number is : 6 and number-2 is : 4 and its square is : 16\n",
      "Number is : 12 and number-2 is : 10 and its square is : 100\n",
      "Number is : 14 and number-2 is : 12 and its square is : 144\n",
      "Number is : 20 and number-2 is : 18 and its square is : 324\n",
      "Number is : 22 and number-2 is : 20 and its square is : 400\n"
     ]
    }
   ],
   "source": [
    "ls = [5,7,6,11,12,14,15,20,22,25]\n",
    "for i in ls:\n",
    "    if i%2==0:\n",
    "        \n",
    "        print(\"Number is :\",i,\"and number-2 is :\",(i-2),\"and its square is :\",(i-2)**2)"
   ]
  },
  {
   "cell_type": "markdown",
   "metadata": {},
   "source": [
    "# Question 5"
   ]
  },
  {
   "cell_type": "code",
   "execution_count": 21,
   "metadata": {},
   "outputs": [
    {
     "name": "stdout",
     "output_type": "stream",
     "text": [
      "Number is : 8\n",
      "Number is : 10\n",
      "Number is : 12\n",
      "Number is : 14\n"
     ]
    }
   ],
   "source": [
    "l = [2,4,6,7,8,9,10,12,14,17]\n",
    "for i in l:\n",
    "    if i%2==0:\n",
    "        if i>7:\n",
    "            print(\"Number is :\",i)\n",
    "    "
   ]
  },
  {
   "cell_type": "code",
   "execution_count": null,
   "metadata": {},
   "outputs": [],
   "source": []
  }
 ],
 "metadata": {
  "kernelspec": {
   "display_name": "Python 3",
   "language": "python",
   "name": "python3"
  },
  "language_info": {
   "codemirror_mode": {
    "name": "ipython",
    "version": 3
   },
   "file_extension": ".py",
   "mimetype": "text/x-python",
   "name": "python",
   "nbconvert_exporter": "python",
   "pygments_lexer": "ipython3",
   "version": "3.7.6"
  }
 },
 "nbformat": 4,
 "nbformat_minor": 4
}
