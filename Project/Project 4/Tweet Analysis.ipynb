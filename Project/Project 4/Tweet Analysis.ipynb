{
 "cells": [
  {
   "cell_type": "code",
   "execution_count": 1,
   "metadata": {},
   "outputs": [],
   "source": [
    "# Importing Required Packages."
   ]
  },
  {
   "cell_type": "code",
   "execution_count": 2,
   "metadata": {},
   "outputs": [],
   "source": [
    "import numpy as np\n",
    "import pandas as pd\n",
    "import tweepy\n",
    "import json\n",
    "from tweepy import OAuthHandler\n",
    "from textblob import TextBlob"
   ]
  },
  {
   "cell_type": "code",
   "execution_count": 3,
   "metadata": {},
   "outputs": [],
   "source": [
    "#Twitter App Credentials"
   ]
  },
  {
   "cell_type": "code",
   "execution_count": 4,
   "metadata": {},
   "outputs": [],
   "source": [
    "consumer_key = \"sMeKVRgv0BidivpNT5B7kpIF5\"\n",
    "consumer_secret = \"r7dCpljH8kJivSlJ9fHwuH31ElXoQGPxC4Laz1z09sXkRmZ7EC\"\n",
    "access_token = \"3194988066-uKvAfRk77momZwJgkDaVSpmfvi4AlUpklnTGCye\"\n",
    "access_token_secret = \"9U3WbKJbXB5P1lEA1wC7lJbFCK0iOb2mXKsw6akyOePBN\""
   ]
  },
  {
   "cell_type": "code",
   "execution_count": 5,
   "metadata": {},
   "outputs": [],
   "source": [
    "auth = tweepy.OAuthHandler( consumer_key , consumer_secret )\n",
    "auth.set_access_token( access_token , access_token_secret )\n",
    "api = tweepy.API(auth)"
   ]
  },
  {
   "cell_type": "code",
   "execution_count": 6,
   "metadata": {},
   "outputs": [],
   "source": [
    "query = \"Covid cases in India\""
   ]
  },
  {
   "cell_type": "code",
   "execution_count": 7,
   "metadata": {},
   "outputs": [
    {
     "name": "stdout",
     "output_type": "stream",
     "text": [
      "Status(_api=<tweepy.api.API object at 0x0000021C9AE36FC8>, _json={'created_at': 'Tue Nov 03 13:08:23 +0000 2020', 'id': 1323612991690924034, 'id_str': '1323612991690924034', 'full_text': \"Tracking #COVID19 | November 3, 2020 (6:30 pm, IST)\\n\\nIndia's total cases reach 8,267,623\\n\\nFor complete coverage on Covid-19 outbreak, log on to: https://t.co/XKhgwwvvgU https://t.co/f6TpuEXIiS\", 'truncated': False, 'display_text_range': [0, 168], 'entities': {'hashtags': [{'text': 'COVID19', 'indices': [9, 17]}], 'symbols': [], 'user_mentions': [], 'urls': [{'url': 'https://t.co/XKhgwwvvgU', 'expanded_url': 'http://toi.in/coronavirus', 'display_url': 'toi.in/coronavirus', 'indices': [145, 168]}], 'media': [{'id': 1323612896119549954, 'id_str': '1323612896119549954', 'indices': [169, 192], 'media_url': 'http://pbs.twimg.com/media/El5q6o1U8AIIq_D.jpg', 'media_url_https': 'https://pbs.twimg.com/media/El5q6o1U8AIIq_D.jpg', 'url': 'https://t.co/f6TpuEXIiS', 'display_url': 'pic.twitter.com/f6TpuEXIiS', 'expanded_url': 'https://twitter.com/timesofindia/status/1323612991690924034/photo/1', 'type': 'photo', 'sizes': {'thumb': {'w': 150, 'h': 150, 'resize': 'crop'}, 'medium': {'w': 635, 'h': 898, 'resize': 'fit'}, 'small': {'w': 481, 'h': 680, 'resize': 'fit'}, 'large': {'w': 635, 'h': 898, 'resize': 'fit'}}}]}, 'extended_entities': {'media': [{'id': 1323612896119549954, 'id_str': '1323612896119549954', 'indices': [169, 192], 'media_url': 'http://pbs.twimg.com/media/El5q6o1U8AIIq_D.jpg', 'media_url_https': 'https://pbs.twimg.com/media/El5q6o1U8AIIq_D.jpg', 'url': 'https://t.co/f6TpuEXIiS', 'display_url': 'pic.twitter.com/f6TpuEXIiS', 'expanded_url': 'https://twitter.com/timesofindia/status/1323612991690924034/photo/1', 'type': 'photo', 'sizes': {'thumb': {'w': 150, 'h': 150, 'resize': 'crop'}, 'medium': {'w': 635, 'h': 898, 'resize': 'fit'}, 'small': {'w': 481, 'h': 680, 'resize': 'fit'}, 'large': {'w': 635, 'h': 898, 'resize': 'fit'}}}]}, 'metadata': {'iso_language_code': 'en', 'result_type': 'recent'}, 'source': '<a href=\"https://about.twitter.com/products/tweetdeck\" rel=\"nofollow\">TweetDeck</a>', 'in_reply_to_status_id': None, 'in_reply_to_status_id_str': None, 'in_reply_to_user_id': None, 'in_reply_to_user_id_str': None, 'in_reply_to_screen_name': None, 'user': {'id': 134758540, 'id_str': '134758540', 'name': 'The Times Of India', 'screen_name': 'timesofindia', 'location': 'New Delhi', 'description': 'News. Views. Analysis. Conversations. India’s No.1 digital news destination, world’s largest-selling English newspaper - A Times Internet Limited Product', 'url': 'https://t.co/JxQOlwNQ7E', 'entities': {'url': {'urls': [{'url': 'https://t.co/JxQOlwNQ7E', 'expanded_url': 'http://www.timesofindia.com', 'display_url': 'timesofindia.com', 'indices': [0, 23]}]}, 'description': {'urls': []}}, 'protected': False, 'followers_count': 13204586, 'friends_count': 506, 'listed_count': 11504, 'created_at': 'Mon Apr 19 10:50:15 +0000 2010', 'favourites_count': 6, 'utc_offset': None, 'time_zone': None, 'geo_enabled': False, 'verified': True, 'statuses_count': 610027, 'lang': None, 'contributors_enabled': False, 'is_translator': False, 'is_translation_enabled': False, 'profile_background_color': 'C0DEED', 'profile_background_image_url': 'http://abs.twimg.com/images/themes/theme1/bg.png', 'profile_background_image_url_https': 'https://abs.twimg.com/images/themes/theme1/bg.png', 'profile_background_tile': False, 'profile_image_url': 'http://pbs.twimg.com/profile_images/1129666669054324736/1W_E72cn_normal.png', 'profile_image_url_https': 'https://pbs.twimg.com/profile_images/1129666669054324736/1W_E72cn_normal.png', 'profile_banner_url': 'https://pbs.twimg.com/profile_banners/134758540/1597645163', 'profile_link_color': '0084B4', 'profile_sidebar_border_color': 'C0DEED', 'profile_sidebar_fill_color': 'DDEEF6', 'profile_text_color': '333333', 'profile_use_background_image': True, 'has_extended_profile': False, 'default_profile': False, 'default_profile_image': False, 'following': False, 'follow_request_sent': False, 'notifications': False, 'translator_type': 'regular'}, 'geo': None, 'coordinates': None, 'place': None, 'contributors': None, 'is_quote_status': False, 'retweet_count': 1, 'favorite_count': 26, 'favorited': False, 'retweeted': False, 'possibly_sensitive': False, 'lang': 'en'}, created_at=datetime.datetime(2020, 11, 3, 13, 8, 23), id=1323612991690924034, id_str='1323612991690924034', full_text=\"Tracking #COVID19 | November 3, 2020 (6:30 pm, IST)\\n\\nIndia's total cases reach 8,267,623\\n\\nFor complete coverage on Covid-19 outbreak, log on to: https://t.co/XKhgwwvvgU https://t.co/f6TpuEXIiS\", truncated=False, display_text_range=[0, 168], entities={'hashtags': [{'text': 'COVID19', 'indices': [9, 17]}], 'symbols': [], 'user_mentions': [], 'urls': [{'url': 'https://t.co/XKhgwwvvgU', 'expanded_url': 'http://toi.in/coronavirus', 'display_url': 'toi.in/coronavirus', 'indices': [145, 168]}], 'media': [{'id': 1323612896119549954, 'id_str': '1323612896119549954', 'indices': [169, 192], 'media_url': 'http://pbs.twimg.com/media/El5q6o1U8AIIq_D.jpg', 'media_url_https': 'https://pbs.twimg.com/media/El5q6o1U8AIIq_D.jpg', 'url': 'https://t.co/f6TpuEXIiS', 'display_url': 'pic.twitter.com/f6TpuEXIiS', 'expanded_url': 'https://twitter.com/timesofindia/status/1323612991690924034/photo/1', 'type': 'photo', 'sizes': {'thumb': {'w': 150, 'h': 150, 'resize': 'crop'}, 'medium': {'w': 635, 'h': 898, 'resize': 'fit'}, 'small': {'w': 481, 'h': 680, 'resize': 'fit'}, 'large': {'w': 635, 'h': 898, 'resize': 'fit'}}}]}, extended_entities={'media': [{'id': 1323612896119549954, 'id_str': '1323612896119549954', 'indices': [169, 192], 'media_url': 'http://pbs.twimg.com/media/El5q6o1U8AIIq_D.jpg', 'media_url_https': 'https://pbs.twimg.com/media/El5q6o1U8AIIq_D.jpg', 'url': 'https://t.co/f6TpuEXIiS', 'display_url': 'pic.twitter.com/f6TpuEXIiS', 'expanded_url': 'https://twitter.com/timesofindia/status/1323612991690924034/photo/1', 'type': 'photo', 'sizes': {'thumb': {'w': 150, 'h': 150, 'resize': 'crop'}, 'medium': {'w': 635, 'h': 898, 'resize': 'fit'}, 'small': {'w': 481, 'h': 680, 'resize': 'fit'}, 'large': {'w': 635, 'h': 898, 'resize': 'fit'}}}]}, metadata={'iso_language_code': 'en', 'result_type': 'recent'}, source='TweetDeck', source_url='https://about.twitter.com/products/tweetdeck', in_reply_to_status_id=None, in_reply_to_status_id_str=None, in_reply_to_user_id=None, in_reply_to_user_id_str=None, in_reply_to_screen_name=None, author=User(_api=<tweepy.api.API object at 0x0000021C9AE36FC8>, _json={'id': 134758540, 'id_str': '134758540', 'name': 'The Times Of India', 'screen_name': 'timesofindia', 'location': 'New Delhi', 'description': 'News. Views. Analysis. Conversations. India’s No.1 digital news destination, world’s largest-selling English newspaper - A Times Internet Limited Product', 'url': 'https://t.co/JxQOlwNQ7E', 'entities': {'url': {'urls': [{'url': 'https://t.co/JxQOlwNQ7E', 'expanded_url': 'http://www.timesofindia.com', 'display_url': 'timesofindia.com', 'indices': [0, 23]}]}, 'description': {'urls': []}}, 'protected': False, 'followers_count': 13204586, 'friends_count': 506, 'listed_count': 11504, 'created_at': 'Mon Apr 19 10:50:15 +0000 2010', 'favourites_count': 6, 'utc_offset': None, 'time_zone': None, 'geo_enabled': False, 'verified': True, 'statuses_count': 610027, 'lang': None, 'contributors_enabled': False, 'is_translator': False, 'is_translation_enabled': False, 'profile_background_color': 'C0DEED', 'profile_background_image_url': 'http://abs.twimg.com/images/themes/theme1/bg.png', 'profile_background_image_url_https': 'https://abs.twimg.com/images/themes/theme1/bg.png', 'profile_background_tile': False, 'profile_image_url': 'http://pbs.twimg.com/profile_images/1129666669054324736/1W_E72cn_normal.png', 'profile_image_url_https': 'https://pbs.twimg.com/profile_images/1129666669054324736/1W_E72cn_normal.png', 'profile_banner_url': 'https://pbs.twimg.com/profile_banners/134758540/1597645163', 'profile_link_color': '0084B4', 'profile_sidebar_border_color': 'C0DEED', 'profile_sidebar_fill_color': 'DDEEF6', 'profile_text_color': '333333', 'profile_use_background_image': True, 'has_extended_profile': False, 'default_profile': False, 'default_profile_image': False, 'following': False, 'follow_request_sent': False, 'notifications': False, 'translator_type': 'regular'}, id=134758540, id_str='134758540', name='The Times Of India', screen_name='timesofindia', location='New Delhi', description='News. Views. Analysis. Conversations. India’s No.1 digital news destination, world’s largest-selling English newspaper - A Times Internet Limited Product', url='https://t.co/JxQOlwNQ7E', entities={'url': {'urls': [{'url': 'https://t.co/JxQOlwNQ7E', 'expanded_url': 'http://www.timesofindia.com', 'display_url': 'timesofindia.com', 'indices': [0, 23]}]}, 'description': {'urls': []}}, protected=False, followers_count=13204586, friends_count=506, listed_count=11504, created_at=datetime.datetime(2010, 4, 19, 10, 50, 15), favourites_count=6, utc_offset=None, time_zone=None, geo_enabled=False, verified=True, statuses_count=610027, lang=None, contributors_enabled=False, is_translator=False, is_translation_enabled=False, profile_background_color='C0DEED', profile_background_image_url='http://abs.twimg.com/images/themes/theme1/bg.png', profile_background_image_url_https='https://abs.twimg.com/images/themes/theme1/bg.png', profile_background_tile=False, profile_image_url='http://pbs.twimg.com/profile_images/1129666669054324736/1W_E72cn_normal.png', profile_image_url_https='https://pbs.twimg.com/profile_images/1129666669054324736/1W_E72cn_normal.png', profile_banner_url='https://pbs.twimg.com/profile_banners/134758540/1597645163', profile_link_color='0084B4', profile_sidebar_border_color='C0DEED', profile_sidebar_fill_color='DDEEF6', profile_text_color='333333', profile_use_background_image=True, has_extended_profile=False, default_profile=False, default_profile_image=False, following=False, follow_request_sent=False, notifications=False, translator_type='regular'), user=User(_api=<tweepy.api.API object at 0x0000021C9AE36FC8>, _json={'id': 134758540, 'id_str': '134758540', 'name': 'The Times Of India', 'screen_name': 'timesofindia', 'location': 'New Delhi', 'description': 'News. Views. Analysis. Conversations. India’s No.1 digital news destination, world’s largest-selling English newspaper - A Times Internet Limited Product', 'url': 'https://t.co/JxQOlwNQ7E', 'entities': {'url': {'urls': [{'url': 'https://t.co/JxQOlwNQ7E', 'expanded_url': 'http://www.timesofindia.com', 'display_url': 'timesofindia.com', 'indices': [0, 23]}]}, 'description': {'urls': []}}, 'protected': False, 'followers_count': 13204586, 'friends_count': 506, 'listed_count': 11504, 'created_at': 'Mon Apr 19 10:50:15 +0000 2010', 'favourites_count': 6, 'utc_offset': None, 'time_zone': None, 'geo_enabled': False, 'verified': True, 'statuses_count': 610027, 'lang': None, 'contributors_enabled': False, 'is_translator': False, 'is_translation_enabled': False, 'profile_background_color': 'C0DEED', 'profile_background_image_url': 'http://abs.twimg.com/images/themes/theme1/bg.png', 'profile_background_image_url_https': 'https://abs.twimg.com/images/themes/theme1/bg.png', 'profile_background_tile': False, 'profile_image_url': 'http://pbs.twimg.com/profile_images/1129666669054324736/1W_E72cn_normal.png', 'profile_image_url_https': 'https://pbs.twimg.com/profile_images/1129666669054324736/1W_E72cn_normal.png', 'profile_banner_url': 'https://pbs.twimg.com/profile_banners/134758540/1597645163', 'profile_link_color': '0084B4', 'profile_sidebar_border_color': 'C0DEED', 'profile_sidebar_fill_color': 'DDEEF6', 'profile_text_color': '333333', 'profile_use_background_image': True, 'has_extended_profile': False, 'default_profile': False, 'default_profile_image': False, 'following': False, 'follow_request_sent': False, 'notifications': False, 'translator_type': 'regular'}, id=134758540, id_str='134758540', name='The Times Of India', screen_name='timesofindia', location='New Delhi', description='News. Views. Analysis. Conversations. India’s No.1 digital news destination, world’s largest-selling English newspaper - A Times Internet Limited Product', url='https://t.co/JxQOlwNQ7E', entities={'url': {'urls': [{'url': 'https://t.co/JxQOlwNQ7E', 'expanded_url': 'http://www.timesofindia.com', 'display_url': 'timesofindia.com', 'indices': [0, 23]}]}, 'description': {'urls': []}}, protected=False, followers_count=13204586, friends_count=506, listed_count=11504, created_at=datetime.datetime(2010, 4, 19, 10, 50, 15), favourites_count=6, utc_offset=None, time_zone=None, geo_enabled=False, verified=True, statuses_count=610027, lang=None, contributors_enabled=False, is_translator=False, is_translation_enabled=False, profile_background_color='C0DEED', profile_background_image_url='http://abs.twimg.com/images/themes/theme1/bg.png', profile_background_image_url_https='https://abs.twimg.com/images/themes/theme1/bg.png', profile_background_tile=False, profile_image_url='http://pbs.twimg.com/profile_images/1129666669054324736/1W_E72cn_normal.png', profile_image_url_https='https://pbs.twimg.com/profile_images/1129666669054324736/1W_E72cn_normal.png', profile_banner_url='https://pbs.twimg.com/profile_banners/134758540/1597645163', profile_link_color='0084B4', profile_sidebar_border_color='C0DEED', profile_sidebar_fill_color='DDEEF6', profile_text_color='333333', profile_use_background_image=True, has_extended_profile=False, default_profile=False, default_profile_image=False, following=False, follow_request_sent=False, notifications=False, translator_type='regular'), geo=None, coordinates=None, place=None, contributors=None, is_quote_status=False, retweet_count=1, favorite_count=26, favorited=False, retweeted=False, possibly_sensitive=False, lang='en') \n",
      "\n",
      ".....................................\n",
      "\n",
      "Status(_api=<tweepy.api.API object at 0x0000021C9AE36FC8>, _json={'created_at': 'Tue Nov 03 13:03:02 +0000 2020', 'id': 1323611646237896706, 'id_str': '1323611646237896706', 'full_text': 'Daily COVID 19 Cases &amp; Deaths Decline In India https://t.co/oDO4WyhtNt #COVID19', 'truncated': False, 'display_text_range': [0, 83], 'entities': {'hashtags': [{'text': 'COVID19', 'indices': [75, 83]}], 'symbols': [], 'user_mentions': [], 'urls': [{'url': 'https://t.co/oDO4WyhtNt', 'expanded_url': 'https://tv.mathrubhumi.com/news/india/ict-1.67987?utm_source=dlvr.it&utm_medium=twitter', 'display_url': 'tv.mathrubhumi.com/news/india/ict…', 'indices': [51, 74]}]}, 'metadata': {'iso_language_code': 'en', 'result_type': 'recent'}, 'source': '<a href=\"https://dlvrit.com/\" rel=\"nofollow\">dlvr.it</a>', 'in_reply_to_status_id': None, 'in_reply_to_status_id_str': None, 'in_reply_to_user_id': None, 'in_reply_to_user_id_str': None, 'in_reply_to_screen_name': None, 'user': {'id': 115415222, 'id_str': '115415222', 'name': 'Mathrubhumi News', 'screen_name': 'mathrubhuminews', 'location': 'Kerala, India', 'description': 'Mathrubhumi News, a TV channel from the prestigious Mathrubhumi stable, delivers quality content from all over the world 24X7, with a focus on Kerala.', 'url': 'http://t.co/eQkWIOAI', 'entities': {'url': {'urls': [{'url': 'http://t.co/eQkWIOAI', 'expanded_url': 'http://mathrubhuminews.in', 'display_url': 'mathrubhuminews.in', 'indices': [0, 20]}]}, 'description': {'urls': []}}, 'protected': False, 'followers_count': 50696, 'friends_count': 7, 'listed_count': 109, 'created_at': 'Thu Feb 18 15:51:19 +0000 2010', 'favourites_count': 3, 'utc_offset': None, 'time_zone': None, 'geo_enabled': False, 'verified': True, 'statuses_count': 46861, 'lang': None, 'contributors_enabled': False, 'is_translator': False, 'is_translation_enabled': False, 'profile_background_color': 'C0DEED', 'profile_background_image_url': 'http://abs.twimg.com/images/themes/theme1/bg.png', 'profile_background_image_url_https': 'https://abs.twimg.com/images/themes/theme1/bg.png', 'profile_background_tile': False, 'profile_image_url': 'http://pbs.twimg.com/profile_images/761799215404109824/71G1w_T8_normal.jpg', 'profile_image_url_https': 'https://pbs.twimg.com/profile_images/761799215404109824/71G1w_T8_normal.jpg', 'profile_banner_url': 'https://pbs.twimg.com/profile_banners/115415222/1597929704', 'profile_link_color': '1DA1F2', 'profile_sidebar_border_color': 'C0DEED', 'profile_sidebar_fill_color': 'DDEEF6', 'profile_text_color': '333333', 'profile_use_background_image': True, 'has_extended_profile': False, 'default_profile': True, 'default_profile_image': False, 'following': False, 'follow_request_sent': False, 'notifications': False, 'translator_type': 'none'}, 'geo': None, 'coordinates': None, 'place': None, 'contributors': None, 'is_quote_status': False, 'retweet_count': 0, 'favorite_count': 1, 'favorited': False, 'retweeted': False, 'possibly_sensitive': False, 'lang': 'en'}, created_at=datetime.datetime(2020, 11, 3, 13, 3, 2), id=1323611646237896706, id_str='1323611646237896706', full_text='Daily COVID 19 Cases &amp; Deaths Decline In India https://t.co/oDO4WyhtNt #COVID19', truncated=False, display_text_range=[0, 83], entities={'hashtags': [{'text': 'COVID19', 'indices': [75, 83]}], 'symbols': [], 'user_mentions': [], 'urls': [{'url': 'https://t.co/oDO4WyhtNt', 'expanded_url': 'https://tv.mathrubhumi.com/news/india/ict-1.67987?utm_source=dlvr.it&utm_medium=twitter', 'display_url': 'tv.mathrubhumi.com/news/india/ict…', 'indices': [51, 74]}]}, metadata={'iso_language_code': 'en', 'result_type': 'recent'}, source='dlvr.it', source_url='https://dlvrit.com/', in_reply_to_status_id=None, in_reply_to_status_id_str=None, in_reply_to_user_id=None, in_reply_to_user_id_str=None, in_reply_to_screen_name=None, author=User(_api=<tweepy.api.API object at 0x0000021C9AE36FC8>, _json={'id': 115415222, 'id_str': '115415222', 'name': 'Mathrubhumi News', 'screen_name': 'mathrubhuminews', 'location': 'Kerala, India', 'description': 'Mathrubhumi News, a TV channel from the prestigious Mathrubhumi stable, delivers quality content from all over the world 24X7, with a focus on Kerala.', 'url': 'http://t.co/eQkWIOAI', 'entities': {'url': {'urls': [{'url': 'http://t.co/eQkWIOAI', 'expanded_url': 'http://mathrubhuminews.in', 'display_url': 'mathrubhuminews.in', 'indices': [0, 20]}]}, 'description': {'urls': []}}, 'protected': False, 'followers_count': 50696, 'friends_count': 7, 'listed_count': 109, 'created_at': 'Thu Feb 18 15:51:19 +0000 2010', 'favourites_count': 3, 'utc_offset': None, 'time_zone': None, 'geo_enabled': False, 'verified': True, 'statuses_count': 46861, 'lang': None, 'contributors_enabled': False, 'is_translator': False, 'is_translation_enabled': False, 'profile_background_color': 'C0DEED', 'profile_background_image_url': 'http://abs.twimg.com/images/themes/theme1/bg.png', 'profile_background_image_url_https': 'https://abs.twimg.com/images/themes/theme1/bg.png', 'profile_background_tile': False, 'profile_image_url': 'http://pbs.twimg.com/profile_images/761799215404109824/71G1w_T8_normal.jpg', 'profile_image_url_https': 'https://pbs.twimg.com/profile_images/761799215404109824/71G1w_T8_normal.jpg', 'profile_banner_url': 'https://pbs.twimg.com/profile_banners/115415222/1597929704', 'profile_link_color': '1DA1F2', 'profile_sidebar_border_color': 'C0DEED', 'profile_sidebar_fill_color': 'DDEEF6', 'profile_text_color': '333333', 'profile_use_background_image': True, 'has_extended_profile': False, 'default_profile': True, 'default_profile_image': False, 'following': False, 'follow_request_sent': False, 'notifications': False, 'translator_type': 'none'}, id=115415222, id_str='115415222', name='Mathrubhumi News', screen_name='mathrubhuminews', location='Kerala, India', description='Mathrubhumi News, a TV channel from the prestigious Mathrubhumi stable, delivers quality content from all over the world 24X7, with a focus on Kerala.', url='http://t.co/eQkWIOAI', entities={'url': {'urls': [{'url': 'http://t.co/eQkWIOAI', 'expanded_url': 'http://mathrubhuminews.in', 'display_url': 'mathrubhuminews.in', 'indices': [0, 20]}]}, 'description': {'urls': []}}, protected=False, followers_count=50696, friends_count=7, listed_count=109, created_at=datetime.datetime(2010, 2, 18, 15, 51, 19), favourites_count=3, utc_offset=None, time_zone=None, geo_enabled=False, verified=True, statuses_count=46861, lang=None, contributors_enabled=False, is_translator=False, is_translation_enabled=False, profile_background_color='C0DEED', profile_background_image_url='http://abs.twimg.com/images/themes/theme1/bg.png', profile_background_image_url_https='https://abs.twimg.com/images/themes/theme1/bg.png', profile_background_tile=False, profile_image_url='http://pbs.twimg.com/profile_images/761799215404109824/71G1w_T8_normal.jpg', profile_image_url_https='https://pbs.twimg.com/profile_images/761799215404109824/71G1w_T8_normal.jpg', profile_banner_url='https://pbs.twimg.com/profile_banners/115415222/1597929704', profile_link_color='1DA1F2', profile_sidebar_border_color='C0DEED', profile_sidebar_fill_color='DDEEF6', profile_text_color='333333', profile_use_background_image=True, has_extended_profile=False, default_profile=True, default_profile_image=False, following=False, follow_request_sent=False, notifications=False, translator_type='none'), user=User(_api=<tweepy.api.API object at 0x0000021C9AE36FC8>, _json={'id': 115415222, 'id_str': '115415222', 'name': 'Mathrubhumi News', 'screen_name': 'mathrubhuminews', 'location': 'Kerala, India', 'description': 'Mathrubhumi News, a TV channel from the prestigious Mathrubhumi stable, delivers quality content from all over the world 24X7, with a focus on Kerala.', 'url': 'http://t.co/eQkWIOAI', 'entities': {'url': {'urls': [{'url': 'http://t.co/eQkWIOAI', 'expanded_url': 'http://mathrubhuminews.in', 'display_url': 'mathrubhuminews.in', 'indices': [0, 20]}]}, 'description': {'urls': []}}, 'protected': False, 'followers_count': 50696, 'friends_count': 7, 'listed_count': 109, 'created_at': 'Thu Feb 18 15:51:19 +0000 2010', 'favourites_count': 3, 'utc_offset': None, 'time_zone': None, 'geo_enabled': False, 'verified': True, 'statuses_count': 46861, 'lang': None, 'contributors_enabled': False, 'is_translator': False, 'is_translation_enabled': False, 'profile_background_color': 'C0DEED', 'profile_background_image_url': 'http://abs.twimg.com/images/themes/theme1/bg.png', 'profile_background_image_url_https': 'https://abs.twimg.com/images/themes/theme1/bg.png', 'profile_background_tile': False, 'profile_image_url': 'http://pbs.twimg.com/profile_images/761799215404109824/71G1w_T8_normal.jpg', 'profile_image_url_https': 'https://pbs.twimg.com/profile_images/761799215404109824/71G1w_T8_normal.jpg', 'profile_banner_url': 'https://pbs.twimg.com/profile_banners/115415222/1597929704', 'profile_link_color': '1DA1F2', 'profile_sidebar_border_color': 'C0DEED', 'profile_sidebar_fill_color': 'DDEEF6', 'profile_text_color': '333333', 'profile_use_background_image': True, 'has_extended_profile': False, 'default_profile': True, 'default_profile_image': False, 'following': False, 'follow_request_sent': False, 'notifications': False, 'translator_type': 'none'}, id=115415222, id_str='115415222', name='Mathrubhumi News', screen_name='mathrubhuminews', location='Kerala, India', description='Mathrubhumi News, a TV channel from the prestigious Mathrubhumi stable, delivers quality content from all over the world 24X7, with a focus on Kerala.', url='http://t.co/eQkWIOAI', entities={'url': {'urls': [{'url': 'http://t.co/eQkWIOAI', 'expanded_url': 'http://mathrubhuminews.in', 'display_url': 'mathrubhuminews.in', 'indices': [0, 20]}]}, 'description': {'urls': []}}, protected=False, followers_count=50696, friends_count=7, listed_count=109, created_at=datetime.datetime(2010, 2, 18, 15, 51, 19), favourites_count=3, utc_offset=None, time_zone=None, geo_enabled=False, verified=True, statuses_count=46861, lang=None, contributors_enabled=False, is_translator=False, is_translation_enabled=False, profile_background_color='C0DEED', profile_background_image_url='http://abs.twimg.com/images/themes/theme1/bg.png', profile_background_image_url_https='https://abs.twimg.com/images/themes/theme1/bg.png', profile_background_tile=False, profile_image_url='http://pbs.twimg.com/profile_images/761799215404109824/71G1w_T8_normal.jpg', profile_image_url_https='https://pbs.twimg.com/profile_images/761799215404109824/71G1w_T8_normal.jpg', profile_banner_url='https://pbs.twimg.com/profile_banners/115415222/1597929704', profile_link_color='1DA1F2', profile_sidebar_border_color='C0DEED', profile_sidebar_fill_color='DDEEF6', profile_text_color='333333', profile_use_background_image=True, has_extended_profile=False, default_profile=True, default_profile_image=False, following=False, follow_request_sent=False, notifications=False, translator_type='none'), geo=None, coordinates=None, place=None, contributors=None, is_quote_status=False, retweet_count=0, favorite_count=1, favorited=False, retweeted=False, possibly_sensitive=False, lang='en') \n",
      "\n",
      ".....................................\n",
      "\n",
      "Status(_api=<tweepy.api.API object at 0x0000021C9AE36FC8>, _json={'created_at': 'Tue Nov 03 13:00:42 +0000 2020', 'id': 1323611056422313984, 'id_str': '1323611056422313984', 'full_text': 'Active #COVID__19 cases in India — 539,431\\n\\nhttps://t.co/fGDXmpxUbA https://t.co/rkkEOCNNVV', 'truncated': False, 'display_text_range': [0, 67], 'entities': {'hashtags': [{'text': 'COVID__19', 'indices': [7, 17]}], 'symbols': [], 'user_mentions': [], 'urls': [{'url': 'https://t.co/fGDXmpxUbA', 'expanded_url': 'http://orfonline.org/covid19-tracker', 'display_url': 'orfonline.org/covid19-tracker', 'indices': [44, 67]}], 'media': [{'id': 1323610047830659072, 'id_str': '1323610047830659072', 'indices': [68, 91], 'media_url': 'http://pbs.twimg.com/media/El5oU2IVkAAqrHa.png', 'media_url_https': 'https://pbs.twimg.com/media/El5oU2IVkAAqrHa.png', 'url': 'https://t.co/rkkEOCNNVV', 'display_url': 'pic.twitter.com/rkkEOCNNVV', 'expanded_url': 'https://twitter.com/orfonline/status/1323611056422313984/photo/1', 'type': 'photo', 'sizes': {'small': {'w': 680, 'h': 680, 'resize': 'fit'}, 'thumb': {'w': 150, 'h': 150, 'resize': 'crop'}, 'medium': {'w': 1080, 'h': 1080, 'resize': 'fit'}, 'large': {'w': 1080, 'h': 1080, 'resize': 'fit'}}}]}, 'extended_entities': {'media': [{'id': 1323610047830659072, 'id_str': '1323610047830659072', 'indices': [68, 91], 'media_url': 'http://pbs.twimg.com/media/El5oU2IVkAAqrHa.png', 'media_url_https': 'https://pbs.twimg.com/media/El5oU2IVkAAqrHa.png', 'url': 'https://t.co/rkkEOCNNVV', 'display_url': 'pic.twitter.com/rkkEOCNNVV', 'expanded_url': 'https://twitter.com/orfonline/status/1323611056422313984/photo/1', 'type': 'photo', 'sizes': {'small': {'w': 680, 'h': 680, 'resize': 'fit'}, 'thumb': {'w': 150, 'h': 150, 'resize': 'crop'}, 'medium': {'w': 1080, 'h': 1080, 'resize': 'fit'}, 'large': {'w': 1080, 'h': 1080, 'resize': 'fit'}}}]}, 'metadata': {'iso_language_code': 'en', 'result_type': 'recent'}, 'source': '<a href=\"https://mobile.twitter.com\" rel=\"nofollow\">Twitter Web App</a>', 'in_reply_to_status_id': None, 'in_reply_to_status_id_str': None, 'in_reply_to_user_id': None, 'in_reply_to_user_id_str': None, 'in_reply_to_screen_name': None, 'user': {'id': 180748385, 'id_str': '180748385', 'name': 'ORF', 'screen_name': 'orfonline', 'location': 'India', 'description': 'Non–partisan, independent analyses on security, strategy, economy, development, energy and global governance.', 'url': 'https://t.co/jKaTttKtaw', 'entities': {'url': {'urls': [{'url': 'https://t.co/jKaTttKtaw', 'expanded_url': 'http://www.orfonline.org', 'display_url': 'orfonline.org', 'indices': [0, 23]}]}, 'description': {'urls': []}}, 'protected': False, 'followers_count': 80297, 'friends_count': 140, 'listed_count': 786, 'created_at': 'Fri Aug 20 11:19:22 +0000 2010', 'favourites_count': 269, 'utc_offset': None, 'time_zone': None, 'geo_enabled': True, 'verified': True, 'statuses_count': 156349, 'lang': None, 'contributors_enabled': False, 'is_translator': False, 'is_translation_enabled': False, 'profile_background_color': '4388F0', 'profile_background_image_url': 'http://abs.twimg.com/images/themes/theme2/bg.gif', 'profile_background_image_url_https': 'https://abs.twimg.com/images/themes/theme2/bg.gif', 'profile_background_tile': False, 'profile_image_url': 'http://pbs.twimg.com/profile_images/875617363089018880/418zc2ld_normal.jpg', 'profile_image_url_https': 'https://pbs.twimg.com/profile_images/875617363089018880/418zc2ld_normal.jpg', 'profile_banner_url': 'https://pbs.twimg.com/profile_banners/180748385/1572878225', 'profile_link_color': '1B5AB8', 'profile_sidebar_border_color': 'FFFFFF', 'profile_sidebar_fill_color': 'DAECF4', 'profile_text_color': '663B12', 'profile_use_background_image': True, 'has_extended_profile': False, 'default_profile': False, 'default_profile_image': False, 'following': False, 'follow_request_sent': False, 'notifications': False, 'translator_type': 'none'}, 'geo': None, 'coordinates': None, 'place': None, 'contributors': None, 'is_quote_status': False, 'retweet_count': 3, 'favorite_count': 5, 'favorited': False, 'retweeted': False, 'possibly_sensitive': False, 'lang': 'en'}, created_at=datetime.datetime(2020, 11, 3, 13, 0, 42), id=1323611056422313984, id_str='1323611056422313984', full_text='Active #COVID__19 cases in India — 539,431\\n\\nhttps://t.co/fGDXmpxUbA https://t.co/rkkEOCNNVV', truncated=False, display_text_range=[0, 67], entities={'hashtags': [{'text': 'COVID__19', 'indices': [7, 17]}], 'symbols': [], 'user_mentions': [], 'urls': [{'url': 'https://t.co/fGDXmpxUbA', 'expanded_url': 'http://orfonline.org/covid19-tracker', 'display_url': 'orfonline.org/covid19-tracker', 'indices': [44, 67]}], 'media': [{'id': 1323610047830659072, 'id_str': '1323610047830659072', 'indices': [68, 91], 'media_url': 'http://pbs.twimg.com/media/El5oU2IVkAAqrHa.png', 'media_url_https': 'https://pbs.twimg.com/media/El5oU2IVkAAqrHa.png', 'url': 'https://t.co/rkkEOCNNVV', 'display_url': 'pic.twitter.com/rkkEOCNNVV', 'expanded_url': 'https://twitter.com/orfonline/status/1323611056422313984/photo/1', 'type': 'photo', 'sizes': {'small': {'w': 680, 'h': 680, 'resize': 'fit'}, 'thumb': {'w': 150, 'h': 150, 'resize': 'crop'}, 'medium': {'w': 1080, 'h': 1080, 'resize': 'fit'}, 'large': {'w': 1080, 'h': 1080, 'resize': 'fit'}}}]}, extended_entities={'media': [{'id': 1323610047830659072, 'id_str': '1323610047830659072', 'indices': [68, 91], 'media_url': 'http://pbs.twimg.com/media/El5oU2IVkAAqrHa.png', 'media_url_https': 'https://pbs.twimg.com/media/El5oU2IVkAAqrHa.png', 'url': 'https://t.co/rkkEOCNNVV', 'display_url': 'pic.twitter.com/rkkEOCNNVV', 'expanded_url': 'https://twitter.com/orfonline/status/1323611056422313984/photo/1', 'type': 'photo', 'sizes': {'small': {'w': 680, 'h': 680, 'resize': 'fit'}, 'thumb': {'w': 150, 'h': 150, 'resize': 'crop'}, 'medium': {'w': 1080, 'h': 1080, 'resize': 'fit'}, 'large': {'w': 1080, 'h': 1080, 'resize': 'fit'}}}]}, metadata={'iso_language_code': 'en', 'result_type': 'recent'}, source='Twitter Web App', source_url='https://mobile.twitter.com', in_reply_to_status_id=None, in_reply_to_status_id_str=None, in_reply_to_user_id=None, in_reply_to_user_id_str=None, in_reply_to_screen_name=None, author=User(_api=<tweepy.api.API object at 0x0000021C9AE36FC8>, _json={'id': 180748385, 'id_str': '180748385', 'name': 'ORF', 'screen_name': 'orfonline', 'location': 'India', 'description': 'Non–partisan, independent analyses on security, strategy, economy, development, energy and global governance.', 'url': 'https://t.co/jKaTttKtaw', 'entities': {'url': {'urls': [{'url': 'https://t.co/jKaTttKtaw', 'expanded_url': 'http://www.orfonline.org', 'display_url': 'orfonline.org', 'indices': [0, 23]}]}, 'description': {'urls': []}}, 'protected': False, 'followers_count': 80297, 'friends_count': 140, 'listed_count': 786, 'created_at': 'Fri Aug 20 11:19:22 +0000 2010', 'favourites_count': 269, 'utc_offset': None, 'time_zone': None, 'geo_enabled': True, 'verified': True, 'statuses_count': 156349, 'lang': None, 'contributors_enabled': False, 'is_translator': False, 'is_translation_enabled': False, 'profile_background_color': '4388F0', 'profile_background_image_url': 'http://abs.twimg.com/images/themes/theme2/bg.gif', 'profile_background_image_url_https': 'https://abs.twimg.com/images/themes/theme2/bg.gif', 'profile_background_tile': False, 'profile_image_url': 'http://pbs.twimg.com/profile_images/875617363089018880/418zc2ld_normal.jpg', 'profile_image_url_https': 'https://pbs.twimg.com/profile_images/875617363089018880/418zc2ld_normal.jpg', 'profile_banner_url': 'https://pbs.twimg.com/profile_banners/180748385/1572878225', 'profile_link_color': '1B5AB8', 'profile_sidebar_border_color': 'FFFFFF', 'profile_sidebar_fill_color': 'DAECF4', 'profile_text_color': '663B12', 'profile_use_background_image': True, 'has_extended_profile': False, 'default_profile': False, 'default_profile_image': False, 'following': False, 'follow_request_sent': False, 'notifications': False, 'translator_type': 'none'}, id=180748385, id_str='180748385', name='ORF', screen_name='orfonline', location='India', description='Non–partisan, independent analyses on security, strategy, economy, development, energy and global governance.', url='https://t.co/jKaTttKtaw', entities={'url': {'urls': [{'url': 'https://t.co/jKaTttKtaw', 'expanded_url': 'http://www.orfonline.org', 'display_url': 'orfonline.org', 'indices': [0, 23]}]}, 'description': {'urls': []}}, protected=False, followers_count=80297, friends_count=140, listed_count=786, created_at=datetime.datetime(2010, 8, 20, 11, 19, 22), favourites_count=269, utc_offset=None, time_zone=None, geo_enabled=True, verified=True, statuses_count=156349, lang=None, contributors_enabled=False, is_translator=False, is_translation_enabled=False, profile_background_color='4388F0', profile_background_image_url='http://abs.twimg.com/images/themes/theme2/bg.gif', profile_background_image_url_https='https://abs.twimg.com/images/themes/theme2/bg.gif', profile_background_tile=False, profile_image_url='http://pbs.twimg.com/profile_images/875617363089018880/418zc2ld_normal.jpg', profile_image_url_https='https://pbs.twimg.com/profile_images/875617363089018880/418zc2ld_normal.jpg', profile_banner_url='https://pbs.twimg.com/profile_banners/180748385/1572878225', profile_link_color='1B5AB8', profile_sidebar_border_color='FFFFFF', profile_sidebar_fill_color='DAECF4', profile_text_color='663B12', profile_use_background_image=True, has_extended_profile=False, default_profile=False, default_profile_image=False, following=False, follow_request_sent=False, notifications=False, translator_type='none'), user=User(_api=<tweepy.api.API object at 0x0000021C9AE36FC8>, _json={'id': 180748385, 'id_str': '180748385', 'name': 'ORF', 'screen_name': 'orfonline', 'location': 'India', 'description': 'Non–partisan, independent analyses on security, strategy, economy, development, energy and global governance.', 'url': 'https://t.co/jKaTttKtaw', 'entities': {'url': {'urls': [{'url': 'https://t.co/jKaTttKtaw', 'expanded_url': 'http://www.orfonline.org', 'display_url': 'orfonline.org', 'indices': [0, 23]}]}, 'description': {'urls': []}}, 'protected': False, 'followers_count': 80297, 'friends_count': 140, 'listed_count': 786, 'created_at': 'Fri Aug 20 11:19:22 +0000 2010', 'favourites_count': 269, 'utc_offset': None, 'time_zone': None, 'geo_enabled': True, 'verified': True, 'statuses_count': 156349, 'lang': None, 'contributors_enabled': False, 'is_translator': False, 'is_translation_enabled': False, 'profile_background_color': '4388F0', 'profile_background_image_url': 'http://abs.twimg.com/images/themes/theme2/bg.gif', 'profile_background_image_url_https': 'https://abs.twimg.com/images/themes/theme2/bg.gif', 'profile_background_tile': False, 'profile_image_url': 'http://pbs.twimg.com/profile_images/875617363089018880/418zc2ld_normal.jpg', 'profile_image_url_https': 'https://pbs.twimg.com/profile_images/875617363089018880/418zc2ld_normal.jpg', 'profile_banner_url': 'https://pbs.twimg.com/profile_banners/180748385/1572878225', 'profile_link_color': '1B5AB8', 'profile_sidebar_border_color': 'FFFFFF', 'profile_sidebar_fill_color': 'DAECF4', 'profile_text_color': '663B12', 'profile_use_background_image': True, 'has_extended_profile': False, 'default_profile': False, 'default_profile_image': False, 'following': False, 'follow_request_sent': False, 'notifications': False, 'translator_type': 'none'}, id=180748385, id_str='180748385', name='ORF', screen_name='orfonline', location='India', description='Non–partisan, independent analyses on security, strategy, economy, development, energy and global governance.', url='https://t.co/jKaTttKtaw', entities={'url': {'urls': [{'url': 'https://t.co/jKaTttKtaw', 'expanded_url': 'http://www.orfonline.org', 'display_url': 'orfonline.org', 'indices': [0, 23]}]}, 'description': {'urls': []}}, protected=False, followers_count=80297, friends_count=140, listed_count=786, created_at=datetime.datetime(2010, 8, 20, 11, 19, 22), favourites_count=269, utc_offset=None, time_zone=None, geo_enabled=True, verified=True, statuses_count=156349, lang=None, contributors_enabled=False, is_translator=False, is_translation_enabled=False, profile_background_color='4388F0', profile_background_image_url='http://abs.twimg.com/images/themes/theme2/bg.gif', profile_background_image_url_https='https://abs.twimg.com/images/themes/theme2/bg.gif', profile_background_tile=False, profile_image_url='http://pbs.twimg.com/profile_images/875617363089018880/418zc2ld_normal.jpg', profile_image_url_https='https://pbs.twimg.com/profile_images/875617363089018880/418zc2ld_normal.jpg', profile_banner_url='https://pbs.twimg.com/profile_banners/180748385/1572878225', profile_link_color='1B5AB8', profile_sidebar_border_color='FFFFFF', profile_sidebar_fill_color='DAECF4', profile_text_color='663B12', profile_use_background_image=True, has_extended_profile=False, default_profile=False, default_profile_image=False, following=False, follow_request_sent=False, notifications=False, translator_type='none'), geo=None, coordinates=None, place=None, contributors=None, is_quote_status=False, retweet_count=3, favorite_count=5, favorited=False, retweeted=False, possibly_sensitive=False, lang='en') \n",
      "\n",
      ".....................................\n",
      "\n",
      "Status(_api=<tweepy.api.API object at 0x0000021C9AE36FC8>, _json={'created_at': 'Tue Nov 03 13:00:00 +0000 2020', 'id': 1323610883730321408, 'id_str': '1323610883730321408', 'full_text': 'COVID 19 cases in India until : 03/11/2020 18:30\\n\\nTotal Cases: 8269651 [+2737]😅\\nActive: 542114🖖🏽\\nRecovered: 7602920 [+1491]❤\\nDeaths :123154 [+15]🙏🏼\\nTotal Tests: 111.79M🧪\\n\\nData- @covid19indiaorg\\n#CoronaVirus #COVID19inIndia #India #Bot', 'truncated': False, 'display_text_range': [0, 234], 'entities': {'hashtags': [{'text': 'CoronaVirus', 'indices': [194, 206]}, {'text': 'COVID19inIndia', 'indices': [207, 222]}, {'text': 'India', 'indices': [223, 229]}, {'text': 'Bot', 'indices': [230, 234]}], 'symbols': [], 'user_mentions': [{'screen_name': 'covid19indiaorg', 'name': 'covid19indiaorg', 'id': 1240561169296814080, 'id_str': '1240561169296814080', 'indices': [177, 193]}], 'urls': []}, 'metadata': {'iso_language_code': 'en', 'result_type': 'recent'}, 'source': '<a href=\"https://indiacovid19bot.azurewebsites.net/\" rel=\"nofollow\">BharatCovid19Bot</a>', 'in_reply_to_status_id': None, 'in_reply_to_status_id_str': None, 'in_reply_to_user_id': None, 'in_reply_to_user_id_str': None, 'in_reply_to_screen_name': None, 'user': {'id': 1254115932021993472, 'id_str': '1254115932021993472', 'name': 'Coronavirus Bot 🇮🇳', 'screen_name': 'IndiaCovid19Bot', 'location': '', 'description': \"A bot HOURLY posting India's Covid 19 numbers.\\nRuns from 9am to 11 30pm IST. \\nMade by \\n@SamitShirsat\", 'url': None, 'entities': {'description': {'urls': []}}, 'protected': False, 'followers_count': 116, 'friends_count': 2, 'listed_count': 2, 'created_at': 'Sat Apr 25 18:32:00 +0000 2020', 'favourites_count': 8, 'utc_offset': None, 'time_zone': None, 'geo_enabled': False, 'verified': False, 'statuses_count': 2862, 'lang': None, 'contributors_enabled': False, 'is_translator': False, 'is_translation_enabled': False, 'profile_background_color': 'F5F8FA', 'profile_background_image_url': None, 'profile_background_image_url_https': None, 'profile_background_tile': False, 'profile_image_url': 'http://pbs.twimg.com/profile_images/1254353902364852224/UKUj3u4l_normal.jpg', 'profile_image_url_https': 'https://pbs.twimg.com/profile_images/1254353902364852224/UKUj3u4l_normal.jpg', 'profile_banner_url': 'https://pbs.twimg.com/profile_banners/1254115932021993472/1587896661', 'profile_link_color': '1DA1F2', 'profile_sidebar_border_color': 'C0DEED', 'profile_sidebar_fill_color': 'DDEEF6', 'profile_text_color': '333333', 'profile_use_background_image': True, 'has_extended_profile': False, 'default_profile': True, 'default_profile_image': False, 'following': False, 'follow_request_sent': False, 'notifications': False, 'translator_type': 'none'}, 'geo': None, 'coordinates': None, 'place': None, 'contributors': None, 'is_quote_status': False, 'retweet_count': 0, 'favorite_count': 0, 'favorited': False, 'retweeted': False, 'lang': 'en'}, created_at=datetime.datetime(2020, 11, 3, 13, 0), id=1323610883730321408, id_str='1323610883730321408', full_text='COVID 19 cases in India until : 03/11/2020 18:30\\n\\nTotal Cases: 8269651 [+2737]😅\\nActive: 542114🖖🏽\\nRecovered: 7602920 [+1491]❤\\nDeaths :123154 [+15]🙏🏼\\nTotal Tests: 111.79M🧪\\n\\nData- @covid19indiaorg\\n#CoronaVirus #COVID19inIndia #India #Bot', truncated=False, display_text_range=[0, 234], entities={'hashtags': [{'text': 'CoronaVirus', 'indices': [194, 206]}, {'text': 'COVID19inIndia', 'indices': [207, 222]}, {'text': 'India', 'indices': [223, 229]}, {'text': 'Bot', 'indices': [230, 234]}], 'symbols': [], 'user_mentions': [{'screen_name': 'covid19indiaorg', 'name': 'covid19indiaorg', 'id': 1240561169296814080, 'id_str': '1240561169296814080', 'indices': [177, 193]}], 'urls': []}, metadata={'iso_language_code': 'en', 'result_type': 'recent'}, source='BharatCovid19Bot', source_url='https://indiacovid19bot.azurewebsites.net/', in_reply_to_status_id=None, in_reply_to_status_id_str=None, in_reply_to_user_id=None, in_reply_to_user_id_str=None, in_reply_to_screen_name=None, author=User(_api=<tweepy.api.API object at 0x0000021C9AE36FC8>, _json={'id': 1254115932021993472, 'id_str': '1254115932021993472', 'name': 'Coronavirus Bot 🇮🇳', 'screen_name': 'IndiaCovid19Bot', 'location': '', 'description': \"A bot HOURLY posting India's Covid 19 numbers.\\nRuns from 9am to 11 30pm IST. \\nMade by \\n@SamitShirsat\", 'url': None, 'entities': {'description': {'urls': []}}, 'protected': False, 'followers_count': 116, 'friends_count': 2, 'listed_count': 2, 'created_at': 'Sat Apr 25 18:32:00 +0000 2020', 'favourites_count': 8, 'utc_offset': None, 'time_zone': None, 'geo_enabled': False, 'verified': False, 'statuses_count': 2862, 'lang': None, 'contributors_enabled': False, 'is_translator': False, 'is_translation_enabled': False, 'profile_background_color': 'F5F8FA', 'profile_background_image_url': None, 'profile_background_image_url_https': None, 'profile_background_tile': False, 'profile_image_url': 'http://pbs.twimg.com/profile_images/1254353902364852224/UKUj3u4l_normal.jpg', 'profile_image_url_https': 'https://pbs.twimg.com/profile_images/1254353902364852224/UKUj3u4l_normal.jpg', 'profile_banner_url': 'https://pbs.twimg.com/profile_banners/1254115932021993472/1587896661', 'profile_link_color': '1DA1F2', 'profile_sidebar_border_color': 'C0DEED', 'profile_sidebar_fill_color': 'DDEEF6', 'profile_text_color': '333333', 'profile_use_background_image': True, 'has_extended_profile': False, 'default_profile': True, 'default_profile_image': False, 'following': False, 'follow_request_sent': False, 'notifications': False, 'translator_type': 'none'}, id=1254115932021993472, id_str='1254115932021993472', name='Coronavirus Bot 🇮🇳', screen_name='IndiaCovid19Bot', location='', description=\"A bot HOURLY posting India's Covid 19 numbers.\\nRuns from 9am to 11 30pm IST. \\nMade by \\n@SamitShirsat\", url=None, entities={'description': {'urls': []}}, protected=False, followers_count=116, friends_count=2, listed_count=2, created_at=datetime.datetime(2020, 4, 25, 18, 32), favourites_count=8, utc_offset=None, time_zone=None, geo_enabled=False, verified=False, statuses_count=2862, lang=None, contributors_enabled=False, is_translator=False, is_translation_enabled=False, profile_background_color='F5F8FA', profile_background_image_url=None, profile_background_image_url_https=None, profile_background_tile=False, profile_image_url='http://pbs.twimg.com/profile_images/1254353902364852224/UKUj3u4l_normal.jpg', profile_image_url_https='https://pbs.twimg.com/profile_images/1254353902364852224/UKUj3u4l_normal.jpg', profile_banner_url='https://pbs.twimg.com/profile_banners/1254115932021993472/1587896661', profile_link_color='1DA1F2', profile_sidebar_border_color='C0DEED', profile_sidebar_fill_color='DDEEF6', profile_text_color='333333', profile_use_background_image=True, has_extended_profile=False, default_profile=True, default_profile_image=False, following=False, follow_request_sent=False, notifications=False, translator_type='none'), user=User(_api=<tweepy.api.API object at 0x0000021C9AE36FC8>, _json={'id': 1254115932021993472, 'id_str': '1254115932021993472', 'name': 'Coronavirus Bot 🇮🇳', 'screen_name': 'IndiaCovid19Bot', 'location': '', 'description': \"A bot HOURLY posting India's Covid 19 numbers.\\nRuns from 9am to 11 30pm IST. \\nMade by \\n@SamitShirsat\", 'url': None, 'entities': {'description': {'urls': []}}, 'protected': False, 'followers_count': 116, 'friends_count': 2, 'listed_count': 2, 'created_at': 'Sat Apr 25 18:32:00 +0000 2020', 'favourites_count': 8, 'utc_offset': None, 'time_zone': None, 'geo_enabled': False, 'verified': False, 'statuses_count': 2862, 'lang': None, 'contributors_enabled': False, 'is_translator': False, 'is_translation_enabled': False, 'profile_background_color': 'F5F8FA', 'profile_background_image_url': None, 'profile_background_image_url_https': None, 'profile_background_tile': False, 'profile_image_url': 'http://pbs.twimg.com/profile_images/1254353902364852224/UKUj3u4l_normal.jpg', 'profile_image_url_https': 'https://pbs.twimg.com/profile_images/1254353902364852224/UKUj3u4l_normal.jpg', 'profile_banner_url': 'https://pbs.twimg.com/profile_banners/1254115932021993472/1587896661', 'profile_link_color': '1DA1F2', 'profile_sidebar_border_color': 'C0DEED', 'profile_sidebar_fill_color': 'DDEEF6', 'profile_text_color': '333333', 'profile_use_background_image': True, 'has_extended_profile': False, 'default_profile': True, 'default_profile_image': False, 'following': False, 'follow_request_sent': False, 'notifications': False, 'translator_type': 'none'}, id=1254115932021993472, id_str='1254115932021993472', name='Coronavirus Bot 🇮🇳', screen_name='IndiaCovid19Bot', location='', description=\"A bot HOURLY posting India's Covid 19 numbers.\\nRuns from 9am to 11 30pm IST. \\nMade by \\n@SamitShirsat\", url=None, entities={'description': {'urls': []}}, protected=False, followers_count=116, friends_count=2, listed_count=2, created_at=datetime.datetime(2020, 4, 25, 18, 32), favourites_count=8, utc_offset=None, time_zone=None, geo_enabled=False, verified=False, statuses_count=2862, lang=None, contributors_enabled=False, is_translator=False, is_translation_enabled=False, profile_background_color='F5F8FA', profile_background_image_url=None, profile_background_image_url_https=None, profile_background_tile=False, profile_image_url='http://pbs.twimg.com/profile_images/1254353902364852224/UKUj3u4l_normal.jpg', profile_image_url_https='https://pbs.twimg.com/profile_images/1254353902364852224/UKUj3u4l_normal.jpg', profile_banner_url='https://pbs.twimg.com/profile_banners/1254115932021993472/1587896661', profile_link_color='1DA1F2', profile_sidebar_border_color='C0DEED', profile_sidebar_fill_color='DDEEF6', profile_text_color='333333', profile_use_background_image=True, has_extended_profile=False, default_profile=True, default_profile_image=False, following=False, follow_request_sent=False, notifications=False, translator_type='none'), geo=None, coordinates=None, place=None, contributors=None, is_quote_status=False, retweet_count=0, favorite_count=0, favorited=False, retweeted=False, lang='en') \n",
      "\n",
      ".....................................\n",
      "\n",
      "Status(_api=<tweepy.api.API object at 0x0000021C9AE36FC8>, _json={'created_at': 'Tue Nov 03 12:57:30 +0000 2020', 'id': 1323610253846409217, 'id_str': '1323610253846409217', 'full_text': \"Explaining India's miraculous Covid recovery\\n\\nThe number of new coronavirus cases reported in India in a span of 24 hours dropped below 40,000. What are the factors that led to the decline? @amitbhate85 speaks to @prathibhatweets\\n\\nhttps://t.co/n0AOpr6AiP\", 'truncated': False, 'display_text_range': [0, 254], 'entities': {'hashtags': [], 'symbols': [], 'user_mentions': [{'screen_name': 'amitbhate85', 'name': 'dr amit bhate', 'id': 3083479860, 'id_str': '3083479860', 'indices': [190, 202]}, {'screen_name': 'prathibhatweets', 'name': 'Prathibha', 'id': 2510906570, 'id_str': '2510906570', 'indices': [213, 229]}], 'urls': [{'url': 'https://t.co/n0AOpr6AiP', 'expanded_url': 'https://www.youtube.com/watch?v=BWt-WiAMoKw', 'display_url': 'youtube.com/watch?v=BWt-Wi…', 'indices': [231, 254]}]}, 'metadata': {'iso_language_code': 'en', 'result_type': 'recent'}, 'source': '<a href=\"https://mobile.twitter.com\" rel=\"nofollow\">Twitter Web App</a>', 'in_reply_to_status_id': None, 'in_reply_to_status_id_str': None, 'in_reply_to_user_id': None, 'in_reply_to_user_id_str': None, 'in_reply_to_screen_name': None, 'user': {'id': 633485882, 'id_str': '633485882', 'name': 'NEWS9', 'screen_name': 'NEWS9TWEETS', 'location': 'BENGALURU', 'description': 'NEWS9 brings you fastest news and updates on Politics, Finance, Cinema & Sports and also latest trends on Lifestyle, Tech and Wellness.', 'url': 'https://t.co/weA9eGiTiX', 'entities': {'url': {'urls': [{'url': 'https://t.co/weA9eGiTiX', 'expanded_url': 'http://www.tv9.com/news_9.html', 'display_url': 'tv9.com/news_9.html', 'indices': [0, 23]}]}, 'description': {'urls': []}}, 'protected': False, 'followers_count': 26271, 'friends_count': 6, 'listed_count': 112, 'created_at': 'Thu Jul 12 05:31:57 +0000 2012', 'favourites_count': 91, 'utc_offset': None, 'time_zone': None, 'geo_enabled': True, 'verified': True, 'statuses_count': 93254, 'lang': None, 'contributors_enabled': False, 'is_translator': False, 'is_translation_enabled': False, 'profile_background_color': 'ACDED6', 'profile_background_image_url': 'http://abs.twimg.com/images/themes/theme18/bg.gif', 'profile_background_image_url_https': 'https://abs.twimg.com/images/themes/theme18/bg.gif', 'profile_background_tile': False, 'profile_image_url': 'http://pbs.twimg.com/profile_images/1239260817976995840/RwTaTu6u_normal.jpg', 'profile_image_url_https': 'https://pbs.twimg.com/profile_images/1239260817976995840/RwTaTu6u_normal.jpg', 'profile_banner_url': 'https://pbs.twimg.com/profile_banners/633485882/1597562706', 'profile_link_color': '038544', 'profile_sidebar_border_color': 'FFFFFF', 'profile_sidebar_fill_color': 'DDEEF6', 'profile_text_color': '333333', 'profile_use_background_image': True, 'has_extended_profile': True, 'default_profile': False, 'default_profile_image': False, 'following': False, 'follow_request_sent': False, 'notifications': False, 'translator_type': 'none'}, 'geo': None, 'coordinates': None, 'place': None, 'contributors': None, 'is_quote_status': False, 'retweet_count': 0, 'favorite_count': 1, 'favorited': False, 'retweeted': False, 'possibly_sensitive': False, 'lang': 'en'}, created_at=datetime.datetime(2020, 11, 3, 12, 57, 30), id=1323610253846409217, id_str='1323610253846409217', full_text=\"Explaining India's miraculous Covid recovery\\n\\nThe number of new coronavirus cases reported in India in a span of 24 hours dropped below 40,000. What are the factors that led to the decline? @amitbhate85 speaks to @prathibhatweets\\n\\nhttps://t.co/n0AOpr6AiP\", truncated=False, display_text_range=[0, 254], entities={'hashtags': [], 'symbols': [], 'user_mentions': [{'screen_name': 'amitbhate85', 'name': 'dr amit bhate', 'id': 3083479860, 'id_str': '3083479860', 'indices': [190, 202]}, {'screen_name': 'prathibhatweets', 'name': 'Prathibha', 'id': 2510906570, 'id_str': '2510906570', 'indices': [213, 229]}], 'urls': [{'url': 'https://t.co/n0AOpr6AiP', 'expanded_url': 'https://www.youtube.com/watch?v=BWt-WiAMoKw', 'display_url': 'youtube.com/watch?v=BWt-Wi…', 'indices': [231, 254]}]}, metadata={'iso_language_code': 'en', 'result_type': 'recent'}, source='Twitter Web App', source_url='https://mobile.twitter.com', in_reply_to_status_id=None, in_reply_to_status_id_str=None, in_reply_to_user_id=None, in_reply_to_user_id_str=None, in_reply_to_screen_name=None, author=User(_api=<tweepy.api.API object at 0x0000021C9AE36FC8>, _json={'id': 633485882, 'id_str': '633485882', 'name': 'NEWS9', 'screen_name': 'NEWS9TWEETS', 'location': 'BENGALURU', 'description': 'NEWS9 brings you fastest news and updates on Politics, Finance, Cinema & Sports and also latest trends on Lifestyle, Tech and Wellness.', 'url': 'https://t.co/weA9eGiTiX', 'entities': {'url': {'urls': [{'url': 'https://t.co/weA9eGiTiX', 'expanded_url': 'http://www.tv9.com/news_9.html', 'display_url': 'tv9.com/news_9.html', 'indices': [0, 23]}]}, 'description': {'urls': []}}, 'protected': False, 'followers_count': 26271, 'friends_count': 6, 'listed_count': 112, 'created_at': 'Thu Jul 12 05:31:57 +0000 2012', 'favourites_count': 91, 'utc_offset': None, 'time_zone': None, 'geo_enabled': True, 'verified': True, 'statuses_count': 93254, 'lang': None, 'contributors_enabled': False, 'is_translator': False, 'is_translation_enabled': False, 'profile_background_color': 'ACDED6', 'profile_background_image_url': 'http://abs.twimg.com/images/themes/theme18/bg.gif', 'profile_background_image_url_https': 'https://abs.twimg.com/images/themes/theme18/bg.gif', 'profile_background_tile': False, 'profile_image_url': 'http://pbs.twimg.com/profile_images/1239260817976995840/RwTaTu6u_normal.jpg', 'profile_image_url_https': 'https://pbs.twimg.com/profile_images/1239260817976995840/RwTaTu6u_normal.jpg', 'profile_banner_url': 'https://pbs.twimg.com/profile_banners/633485882/1597562706', 'profile_link_color': '038544', 'profile_sidebar_border_color': 'FFFFFF', 'profile_sidebar_fill_color': 'DDEEF6', 'profile_text_color': '333333', 'profile_use_background_image': True, 'has_extended_profile': True, 'default_profile': False, 'default_profile_image': False, 'following': False, 'follow_request_sent': False, 'notifications': False, 'translator_type': 'none'}, id=633485882, id_str='633485882', name='NEWS9', screen_name='NEWS9TWEETS', location='BENGALURU', description='NEWS9 brings you fastest news and updates on Politics, Finance, Cinema & Sports and also latest trends on Lifestyle, Tech and Wellness.', url='https://t.co/weA9eGiTiX', entities={'url': {'urls': [{'url': 'https://t.co/weA9eGiTiX', 'expanded_url': 'http://www.tv9.com/news_9.html', 'display_url': 'tv9.com/news_9.html', 'indices': [0, 23]}]}, 'description': {'urls': []}}, protected=False, followers_count=26271, friends_count=6, listed_count=112, created_at=datetime.datetime(2012, 7, 12, 5, 31, 57), favourites_count=91, utc_offset=None, time_zone=None, geo_enabled=True, verified=True, statuses_count=93254, lang=None, contributors_enabled=False, is_translator=False, is_translation_enabled=False, profile_background_color='ACDED6', profile_background_image_url='http://abs.twimg.com/images/themes/theme18/bg.gif', profile_background_image_url_https='https://abs.twimg.com/images/themes/theme18/bg.gif', profile_background_tile=False, profile_image_url='http://pbs.twimg.com/profile_images/1239260817976995840/RwTaTu6u_normal.jpg', profile_image_url_https='https://pbs.twimg.com/profile_images/1239260817976995840/RwTaTu6u_normal.jpg', profile_banner_url='https://pbs.twimg.com/profile_banners/633485882/1597562706', profile_link_color='038544', profile_sidebar_border_color='FFFFFF', profile_sidebar_fill_color='DDEEF6', profile_text_color='333333', profile_use_background_image=True, has_extended_profile=True, default_profile=False, default_profile_image=False, following=False, follow_request_sent=False, notifications=False, translator_type='none'), user=User(_api=<tweepy.api.API object at 0x0000021C9AE36FC8>, _json={'id': 633485882, 'id_str': '633485882', 'name': 'NEWS9', 'screen_name': 'NEWS9TWEETS', 'location': 'BENGALURU', 'description': 'NEWS9 brings you fastest news and updates on Politics, Finance, Cinema & Sports and also latest trends on Lifestyle, Tech and Wellness.', 'url': 'https://t.co/weA9eGiTiX', 'entities': {'url': {'urls': [{'url': 'https://t.co/weA9eGiTiX', 'expanded_url': 'http://www.tv9.com/news_9.html', 'display_url': 'tv9.com/news_9.html', 'indices': [0, 23]}]}, 'description': {'urls': []}}, 'protected': False, 'followers_count': 26271, 'friends_count': 6, 'listed_count': 112, 'created_at': 'Thu Jul 12 05:31:57 +0000 2012', 'favourites_count': 91, 'utc_offset': None, 'time_zone': None, 'geo_enabled': True, 'verified': True, 'statuses_count': 93254, 'lang': None, 'contributors_enabled': False, 'is_translator': False, 'is_translation_enabled': False, 'profile_background_color': 'ACDED6', 'profile_background_image_url': 'http://abs.twimg.com/images/themes/theme18/bg.gif', 'profile_background_image_url_https': 'https://abs.twimg.com/images/themes/theme18/bg.gif', 'profile_background_tile': False, 'profile_image_url': 'http://pbs.twimg.com/profile_images/1239260817976995840/RwTaTu6u_normal.jpg', 'profile_image_url_https': 'https://pbs.twimg.com/profile_images/1239260817976995840/RwTaTu6u_normal.jpg', 'profile_banner_url': 'https://pbs.twimg.com/profile_banners/633485882/1597562706', 'profile_link_color': '038544', 'profile_sidebar_border_color': 'FFFFFF', 'profile_sidebar_fill_color': 'DDEEF6', 'profile_text_color': '333333', 'profile_use_background_image': True, 'has_extended_profile': True, 'default_profile': False, 'default_profile_image': False, 'following': False, 'follow_request_sent': False, 'notifications': False, 'translator_type': 'none'}, id=633485882, id_str='633485882', name='NEWS9', screen_name='NEWS9TWEETS', location='BENGALURU', description='NEWS9 brings you fastest news and updates on Politics, Finance, Cinema & Sports and also latest trends on Lifestyle, Tech and Wellness.', url='https://t.co/weA9eGiTiX', entities={'url': {'urls': [{'url': 'https://t.co/weA9eGiTiX', 'expanded_url': 'http://www.tv9.com/news_9.html', 'display_url': 'tv9.com/news_9.html', 'indices': [0, 23]}]}, 'description': {'urls': []}}, protected=False, followers_count=26271, friends_count=6, listed_count=112, created_at=datetime.datetime(2012, 7, 12, 5, 31, 57), favourites_count=91, utc_offset=None, time_zone=None, geo_enabled=True, verified=True, statuses_count=93254, lang=None, contributors_enabled=False, is_translator=False, is_translation_enabled=False, profile_background_color='ACDED6', profile_background_image_url='http://abs.twimg.com/images/themes/theme18/bg.gif', profile_background_image_url_https='https://abs.twimg.com/images/themes/theme18/bg.gif', profile_background_tile=False, profile_image_url='http://pbs.twimg.com/profile_images/1239260817976995840/RwTaTu6u_normal.jpg', profile_image_url_https='https://pbs.twimg.com/profile_images/1239260817976995840/RwTaTu6u_normal.jpg', profile_banner_url='https://pbs.twimg.com/profile_banners/633485882/1597562706', profile_link_color='038544', profile_sidebar_border_color='FFFFFF', profile_sidebar_fill_color='DDEEF6', profile_text_color='333333', profile_use_background_image=True, has_extended_profile=True, default_profile=False, default_profile_image=False, following=False, follow_request_sent=False, notifications=False, translator_type='none'), geo=None, coordinates=None, place=None, contributors=None, is_quote_status=False, retweet_count=0, favorite_count=1, favorited=False, retweeted=False, possibly_sensitive=False, lang='en') \n",
      "\n",
      ".....................................\n",
      "\n",
      "Status(_api=<tweepy.api.API object at 0x0000021C9AE36FC8>, _json={'created_at': 'Tue Nov 03 12:53:06 +0000 2020', 'id': 1323609144373497856, 'id_str': '1323609144373497856', 'full_text': '@narendramodi dear sir, since India is doing such a great job in controlling covid cases I request you to broadcast a special message congratulating Indians before IPL finals and reminding us to NOT be complacent and continue the good work. Thanks.', 'truncated': False, 'display_text_range': [0, 248], 'entities': {'hashtags': [], 'symbols': [], 'user_mentions': [{'screen_name': 'narendramodi', 'name': 'Narendra Modi', 'id': 18839785, 'id_str': '18839785', 'indices': [0, 13]}], 'urls': []}, 'metadata': {'iso_language_code': 'en', 'result_type': 'recent'}, 'source': '<a href=\"http://twitter.com/download/android\" rel=\"nofollow\">Twitter for Android</a>', 'in_reply_to_status_id': None, 'in_reply_to_status_id_str': None, 'in_reply_to_user_id': 18839785, 'in_reply_to_user_id_str': '18839785', 'in_reply_to_screen_name': 'narendramodi', 'user': {'id': 1025180925733363713, 'id_str': '1025180925733363713', 'name': 'Karamazov', 'screen_name': 'cricfan110', 'location': '', 'description': '', 'url': None, 'entities': {'description': {'urls': []}}, 'protected': False, 'followers_count': 11, 'friends_count': 418, 'listed_count': 0, 'created_at': 'Fri Aug 03 00:45:54 +0000 2018', 'favourites_count': 69, 'utc_offset': None, 'time_zone': None, 'geo_enabled': False, 'verified': False, 'statuses_count': 344, 'lang': None, 'contributors_enabled': False, 'is_translator': False, 'is_translation_enabled': False, 'profile_background_color': 'F5F8FA', 'profile_background_image_url': None, 'profile_background_image_url_https': None, 'profile_background_tile': False, 'profile_image_url': 'http://abs.twimg.com/sticky/default_profile_images/default_profile_normal.png', 'profile_image_url_https': 'https://abs.twimg.com/sticky/default_profile_images/default_profile_normal.png', 'profile_link_color': '1DA1F2', 'profile_sidebar_border_color': 'C0DEED', 'profile_sidebar_fill_color': 'DDEEF6', 'profile_text_color': '333333', 'profile_use_background_image': True, 'has_extended_profile': False, 'default_profile': True, 'default_profile_image': True, 'following': False, 'follow_request_sent': False, 'notifications': False, 'translator_type': 'none'}, 'geo': None, 'coordinates': None, 'place': None, 'contributors': None, 'is_quote_status': False, 'retweet_count': 0, 'favorite_count': 0, 'favorited': False, 'retweeted': False, 'lang': 'en'}, created_at=datetime.datetime(2020, 11, 3, 12, 53, 6), id=1323609144373497856, id_str='1323609144373497856', full_text='@narendramodi dear sir, since India is doing such a great job in controlling covid cases I request you to broadcast a special message congratulating Indians before IPL finals and reminding us to NOT be complacent and continue the good work. Thanks.', truncated=False, display_text_range=[0, 248], entities={'hashtags': [], 'symbols': [], 'user_mentions': [{'screen_name': 'narendramodi', 'name': 'Narendra Modi', 'id': 18839785, 'id_str': '18839785', 'indices': [0, 13]}], 'urls': []}, metadata={'iso_language_code': 'en', 'result_type': 'recent'}, source='Twitter for Android', source_url='http://twitter.com/download/android', in_reply_to_status_id=None, in_reply_to_status_id_str=None, in_reply_to_user_id=18839785, in_reply_to_user_id_str='18839785', in_reply_to_screen_name='narendramodi', author=User(_api=<tweepy.api.API object at 0x0000021C9AE36FC8>, _json={'id': 1025180925733363713, 'id_str': '1025180925733363713', 'name': 'Karamazov', 'screen_name': 'cricfan110', 'location': '', 'description': '', 'url': None, 'entities': {'description': {'urls': []}}, 'protected': False, 'followers_count': 11, 'friends_count': 418, 'listed_count': 0, 'created_at': 'Fri Aug 03 00:45:54 +0000 2018', 'favourites_count': 69, 'utc_offset': None, 'time_zone': None, 'geo_enabled': False, 'verified': False, 'statuses_count': 344, 'lang': None, 'contributors_enabled': False, 'is_translator': False, 'is_translation_enabled': False, 'profile_background_color': 'F5F8FA', 'profile_background_image_url': None, 'profile_background_image_url_https': None, 'profile_background_tile': False, 'profile_image_url': 'http://abs.twimg.com/sticky/default_profile_images/default_profile_normal.png', 'profile_image_url_https': 'https://abs.twimg.com/sticky/default_profile_images/default_profile_normal.png', 'profile_link_color': '1DA1F2', 'profile_sidebar_border_color': 'C0DEED', 'profile_sidebar_fill_color': 'DDEEF6', 'profile_text_color': '333333', 'profile_use_background_image': True, 'has_extended_profile': False, 'default_profile': True, 'default_profile_image': True, 'following': False, 'follow_request_sent': False, 'notifications': False, 'translator_type': 'none'}, id=1025180925733363713, id_str='1025180925733363713', name='Karamazov', screen_name='cricfan110', location='', description='', url=None, entities={'description': {'urls': []}}, protected=False, followers_count=11, friends_count=418, listed_count=0, created_at=datetime.datetime(2018, 8, 3, 0, 45, 54), favourites_count=69, utc_offset=None, time_zone=None, geo_enabled=False, verified=False, statuses_count=344, lang=None, contributors_enabled=False, is_translator=False, is_translation_enabled=False, profile_background_color='F5F8FA', profile_background_image_url=None, profile_background_image_url_https=None, profile_background_tile=False, profile_image_url='http://abs.twimg.com/sticky/default_profile_images/default_profile_normal.png', profile_image_url_https='https://abs.twimg.com/sticky/default_profile_images/default_profile_normal.png', profile_link_color='1DA1F2', profile_sidebar_border_color='C0DEED', profile_sidebar_fill_color='DDEEF6', profile_text_color='333333', profile_use_background_image=True, has_extended_profile=False, default_profile=True, default_profile_image=True, following=False, follow_request_sent=False, notifications=False, translator_type='none'), user=User(_api=<tweepy.api.API object at 0x0000021C9AE36FC8>, _json={'id': 1025180925733363713, 'id_str': '1025180925733363713', 'name': 'Karamazov', 'screen_name': 'cricfan110', 'location': '', 'description': '', 'url': None, 'entities': {'description': {'urls': []}}, 'protected': False, 'followers_count': 11, 'friends_count': 418, 'listed_count': 0, 'created_at': 'Fri Aug 03 00:45:54 +0000 2018', 'favourites_count': 69, 'utc_offset': None, 'time_zone': None, 'geo_enabled': False, 'verified': False, 'statuses_count': 344, 'lang': None, 'contributors_enabled': False, 'is_translator': False, 'is_translation_enabled': False, 'profile_background_color': 'F5F8FA', 'profile_background_image_url': None, 'profile_background_image_url_https': None, 'profile_background_tile': False, 'profile_image_url': 'http://abs.twimg.com/sticky/default_profile_images/default_profile_normal.png', 'profile_image_url_https': 'https://abs.twimg.com/sticky/default_profile_images/default_profile_normal.png', 'profile_link_color': '1DA1F2', 'profile_sidebar_border_color': 'C0DEED', 'profile_sidebar_fill_color': 'DDEEF6', 'profile_text_color': '333333', 'profile_use_background_image': True, 'has_extended_profile': False, 'default_profile': True, 'default_profile_image': True, 'following': False, 'follow_request_sent': False, 'notifications': False, 'translator_type': 'none'}, id=1025180925733363713, id_str='1025180925733363713', name='Karamazov', screen_name='cricfan110', location='', description='', url=None, entities={'description': {'urls': []}}, protected=False, followers_count=11, friends_count=418, listed_count=0, created_at=datetime.datetime(2018, 8, 3, 0, 45, 54), favourites_count=69, utc_offset=None, time_zone=None, geo_enabled=False, verified=False, statuses_count=344, lang=None, contributors_enabled=False, is_translator=False, is_translation_enabled=False, profile_background_color='F5F8FA', profile_background_image_url=None, profile_background_image_url_https=None, profile_background_tile=False, profile_image_url='http://abs.twimg.com/sticky/default_profile_images/default_profile_normal.png', profile_image_url_https='https://abs.twimg.com/sticky/default_profile_images/default_profile_normal.png', profile_link_color='1DA1F2', profile_sidebar_border_color='C0DEED', profile_sidebar_fill_color='DDEEF6', profile_text_color='333333', profile_use_background_image=True, has_extended_profile=False, default_profile=True, default_profile_image=True, following=False, follow_request_sent=False, notifications=False, translator_type='none'), geo=None, coordinates=None, place=None, contributors=None, is_quote_status=False, retweet_count=0, favorite_count=0, favorited=False, retweeted=False, lang='en') \n",
      "\n",
      ".....................................\n",
      "\n",
      "Status(_api=<tweepy.api.API object at 0x0000021C9AE36FC8>, _json={'created_at': 'Tue Nov 03 12:38:53 +0000 2020', 'id': 1323605567647084546, 'id_str': '1323605567647084546', 'full_text': \"#IndiaFightsCorona: \\n\\nAs we go ahead, it is advised to all States/UTs to proactively pursue the strategy of 'Test, Track, Trace &amp; Treat'\\n\\nIn order to avoid the surge in active cases during festivities, we all must follow the #COVID appropriate behaviour: Secretary, @MoHFW_INDIA https://t.co/OHj5Y1ma81\", 'truncated': False, 'display_text_range': [0, 282], 'entities': {'hashtags': [{'text': 'IndiaFightsCorona', 'indices': [0, 18]}, {'text': 'COVID', 'indices': [229, 235]}], 'symbols': [], 'user_mentions': [{'screen_name': 'MoHFW_INDIA', 'name': 'Ministry of Health', 'id': 2596143056, 'id_str': '2596143056', 'indices': [270, 282]}], 'urls': [], 'media': [{'id': 1323605564383883266, 'id_str': '1323605564383883266', 'indices': [283, 306], 'media_url': 'http://pbs.twimg.com/media/El5kP3_U8AIO49x.png', 'media_url_https': 'https://pbs.twimg.com/media/El5kP3_U8AIO49x.png', 'url': 'https://t.co/OHj5Y1ma81', 'display_url': 'pic.twitter.com/OHj5Y1ma81', 'expanded_url': 'https://twitter.com/airnews_imphal/status/1323605567647084546/photo/1', 'type': 'photo', 'sizes': {'medium': {'w': 947, 'h': 511, 'resize': 'fit'}, 'small': {'w': 680, 'h': 367, 'resize': 'fit'}, 'large': {'w': 947, 'h': 511, 'resize': 'fit'}, 'thumb': {'w': 150, 'h': 150, 'resize': 'crop'}}}]}, 'extended_entities': {'media': [{'id': 1323605564383883266, 'id_str': '1323605564383883266', 'indices': [283, 306], 'media_url': 'http://pbs.twimg.com/media/El5kP3_U8AIO49x.png', 'media_url_https': 'https://pbs.twimg.com/media/El5kP3_U8AIO49x.png', 'url': 'https://t.co/OHj5Y1ma81', 'display_url': 'pic.twitter.com/OHj5Y1ma81', 'expanded_url': 'https://twitter.com/airnews_imphal/status/1323605567647084546/photo/1', 'type': 'photo', 'sizes': {'medium': {'w': 947, 'h': 511, 'resize': 'fit'}, 'small': {'w': 680, 'h': 367, 'resize': 'fit'}, 'large': {'w': 947, 'h': 511, 'resize': 'fit'}, 'thumb': {'w': 150, 'h': 150, 'resize': 'crop'}}}]}, 'metadata': {'iso_language_code': 'en', 'result_type': 'recent'}, 'source': '<a href=\"http://twitter.com/download/android\" rel=\"nofollow\">Twitter for Android</a>', 'in_reply_to_status_id': None, 'in_reply_to_status_id_str': None, 'in_reply_to_user_id': None, 'in_reply_to_user_id_str': None, 'in_reply_to_screen_name': None, 'user': {'id': 826284528645730304, 'id_str': '826284528645730304', 'name': 'AIR News Imphal', 'screen_name': 'airnews_imphal', 'location': 'Imphal, India', 'description': 'Official account of Regional News Unit Imphal, All India Radio News', 'url': 'https://t.co/VWWX37MiaF', 'entities': {'url': {'urls': [{'url': 'https://t.co/VWWX37MiaF', 'expanded_url': 'http://www.newsonair.com', 'display_url': 'newsonair.com', 'indices': [0, 23]}]}, 'description': {'urls': []}}, 'protected': False, 'followers_count': 4714, 'friends_count': 42, 'listed_count': 9, 'created_at': 'Tue Jan 31 04:22:38 +0000 2017', 'favourites_count': 856, 'utc_offset': None, 'time_zone': None, 'geo_enabled': False, 'verified': False, 'statuses_count': 31500, 'lang': None, 'contributors_enabled': False, 'is_translator': False, 'is_translation_enabled': False, 'profile_background_color': 'F5F8FA', 'profile_background_image_url': None, 'profile_background_image_url_https': None, 'profile_background_tile': False, 'profile_image_url': 'http://pbs.twimg.com/profile_images/826286218648416256/L6dJJ1g5_normal.jpg', 'profile_image_url_https': 'https://pbs.twimg.com/profile_images/826286218648416256/L6dJJ1g5_normal.jpg', 'profile_banner_url': 'https://pbs.twimg.com/profile_banners/826284528645730304/1485837069', 'profile_link_color': '1DA1F2', 'profile_sidebar_border_color': 'C0DEED', 'profile_sidebar_fill_color': 'DDEEF6', 'profile_text_color': '333333', 'profile_use_background_image': True, 'has_extended_profile': False, 'default_profile': True, 'default_profile_image': False, 'following': False, 'follow_request_sent': False, 'notifications': False, 'translator_type': 'none'}, 'geo': None, 'coordinates': None, 'place': None, 'contributors': None, 'is_quote_status': False, 'retweet_count': 0, 'favorite_count': 0, 'favorited': False, 'retweeted': False, 'possibly_sensitive': False, 'lang': 'en'}, created_at=datetime.datetime(2020, 11, 3, 12, 38, 53), id=1323605567647084546, id_str='1323605567647084546', full_text=\"#IndiaFightsCorona: \\n\\nAs we go ahead, it is advised to all States/UTs to proactively pursue the strategy of 'Test, Track, Trace &amp; Treat'\\n\\nIn order to avoid the surge in active cases during festivities, we all must follow the #COVID appropriate behaviour: Secretary, @MoHFW_INDIA https://t.co/OHj5Y1ma81\", truncated=False, display_text_range=[0, 282], entities={'hashtags': [{'text': 'IndiaFightsCorona', 'indices': [0, 18]}, {'text': 'COVID', 'indices': [229, 235]}], 'symbols': [], 'user_mentions': [{'screen_name': 'MoHFW_INDIA', 'name': 'Ministry of Health', 'id': 2596143056, 'id_str': '2596143056', 'indices': [270, 282]}], 'urls': [], 'media': [{'id': 1323605564383883266, 'id_str': '1323605564383883266', 'indices': [283, 306], 'media_url': 'http://pbs.twimg.com/media/El5kP3_U8AIO49x.png', 'media_url_https': 'https://pbs.twimg.com/media/El5kP3_U8AIO49x.png', 'url': 'https://t.co/OHj5Y1ma81', 'display_url': 'pic.twitter.com/OHj5Y1ma81', 'expanded_url': 'https://twitter.com/airnews_imphal/status/1323605567647084546/photo/1', 'type': 'photo', 'sizes': {'medium': {'w': 947, 'h': 511, 'resize': 'fit'}, 'small': {'w': 680, 'h': 367, 'resize': 'fit'}, 'large': {'w': 947, 'h': 511, 'resize': 'fit'}, 'thumb': {'w': 150, 'h': 150, 'resize': 'crop'}}}]}, extended_entities={'media': [{'id': 1323605564383883266, 'id_str': '1323605564383883266', 'indices': [283, 306], 'media_url': 'http://pbs.twimg.com/media/El5kP3_U8AIO49x.png', 'media_url_https': 'https://pbs.twimg.com/media/El5kP3_U8AIO49x.png', 'url': 'https://t.co/OHj5Y1ma81', 'display_url': 'pic.twitter.com/OHj5Y1ma81', 'expanded_url': 'https://twitter.com/airnews_imphal/status/1323605567647084546/photo/1', 'type': 'photo', 'sizes': {'medium': {'w': 947, 'h': 511, 'resize': 'fit'}, 'small': {'w': 680, 'h': 367, 'resize': 'fit'}, 'large': {'w': 947, 'h': 511, 'resize': 'fit'}, 'thumb': {'w': 150, 'h': 150, 'resize': 'crop'}}}]}, metadata={'iso_language_code': 'en', 'result_type': 'recent'}, source='Twitter for Android', source_url='http://twitter.com/download/android', in_reply_to_status_id=None, in_reply_to_status_id_str=None, in_reply_to_user_id=None, in_reply_to_user_id_str=None, in_reply_to_screen_name=None, author=User(_api=<tweepy.api.API object at 0x0000021C9AE36FC8>, _json={'id': 826284528645730304, 'id_str': '826284528645730304', 'name': 'AIR News Imphal', 'screen_name': 'airnews_imphal', 'location': 'Imphal, India', 'description': 'Official account of Regional News Unit Imphal, All India Radio News', 'url': 'https://t.co/VWWX37MiaF', 'entities': {'url': {'urls': [{'url': 'https://t.co/VWWX37MiaF', 'expanded_url': 'http://www.newsonair.com', 'display_url': 'newsonair.com', 'indices': [0, 23]}]}, 'description': {'urls': []}}, 'protected': False, 'followers_count': 4714, 'friends_count': 42, 'listed_count': 9, 'created_at': 'Tue Jan 31 04:22:38 +0000 2017', 'favourites_count': 856, 'utc_offset': None, 'time_zone': None, 'geo_enabled': False, 'verified': False, 'statuses_count': 31500, 'lang': None, 'contributors_enabled': False, 'is_translator': False, 'is_translation_enabled': False, 'profile_background_color': 'F5F8FA', 'profile_background_image_url': None, 'profile_background_image_url_https': None, 'profile_background_tile': False, 'profile_image_url': 'http://pbs.twimg.com/profile_images/826286218648416256/L6dJJ1g5_normal.jpg', 'profile_image_url_https': 'https://pbs.twimg.com/profile_images/826286218648416256/L6dJJ1g5_normal.jpg', 'profile_banner_url': 'https://pbs.twimg.com/profile_banners/826284528645730304/1485837069', 'profile_link_color': '1DA1F2', 'profile_sidebar_border_color': 'C0DEED', 'profile_sidebar_fill_color': 'DDEEF6', 'profile_text_color': '333333', 'profile_use_background_image': True, 'has_extended_profile': False, 'default_profile': True, 'default_profile_image': False, 'following': False, 'follow_request_sent': False, 'notifications': False, 'translator_type': 'none'}, id=826284528645730304, id_str='826284528645730304', name='AIR News Imphal', screen_name='airnews_imphal', location='Imphal, India', description='Official account of Regional News Unit Imphal, All India Radio News', url='https://t.co/VWWX37MiaF', entities={'url': {'urls': [{'url': 'https://t.co/VWWX37MiaF', 'expanded_url': 'http://www.newsonair.com', 'display_url': 'newsonair.com', 'indices': [0, 23]}]}, 'description': {'urls': []}}, protected=False, followers_count=4714, friends_count=42, listed_count=9, created_at=datetime.datetime(2017, 1, 31, 4, 22, 38), favourites_count=856, utc_offset=None, time_zone=None, geo_enabled=False, verified=False, statuses_count=31500, lang=None, contributors_enabled=False, is_translator=False, is_translation_enabled=False, profile_background_color='F5F8FA', profile_background_image_url=None, profile_background_image_url_https=None, profile_background_tile=False, profile_image_url='http://pbs.twimg.com/profile_images/826286218648416256/L6dJJ1g5_normal.jpg', profile_image_url_https='https://pbs.twimg.com/profile_images/826286218648416256/L6dJJ1g5_normal.jpg', profile_banner_url='https://pbs.twimg.com/profile_banners/826284528645730304/1485837069', profile_link_color='1DA1F2', profile_sidebar_border_color='C0DEED', profile_sidebar_fill_color='DDEEF6', profile_text_color='333333', profile_use_background_image=True, has_extended_profile=False, default_profile=True, default_profile_image=False, following=False, follow_request_sent=False, notifications=False, translator_type='none'), user=User(_api=<tweepy.api.API object at 0x0000021C9AE36FC8>, _json={'id': 826284528645730304, 'id_str': '826284528645730304', 'name': 'AIR News Imphal', 'screen_name': 'airnews_imphal', 'location': 'Imphal, India', 'description': 'Official account of Regional News Unit Imphal, All India Radio News', 'url': 'https://t.co/VWWX37MiaF', 'entities': {'url': {'urls': [{'url': 'https://t.co/VWWX37MiaF', 'expanded_url': 'http://www.newsonair.com', 'display_url': 'newsonair.com', 'indices': [0, 23]}]}, 'description': {'urls': []}}, 'protected': False, 'followers_count': 4714, 'friends_count': 42, 'listed_count': 9, 'created_at': 'Tue Jan 31 04:22:38 +0000 2017', 'favourites_count': 856, 'utc_offset': None, 'time_zone': None, 'geo_enabled': False, 'verified': False, 'statuses_count': 31500, 'lang': None, 'contributors_enabled': False, 'is_translator': False, 'is_translation_enabled': False, 'profile_background_color': 'F5F8FA', 'profile_background_image_url': None, 'profile_background_image_url_https': None, 'profile_background_tile': False, 'profile_image_url': 'http://pbs.twimg.com/profile_images/826286218648416256/L6dJJ1g5_normal.jpg', 'profile_image_url_https': 'https://pbs.twimg.com/profile_images/826286218648416256/L6dJJ1g5_normal.jpg', 'profile_banner_url': 'https://pbs.twimg.com/profile_banners/826284528645730304/1485837069', 'profile_link_color': '1DA1F2', 'profile_sidebar_border_color': 'C0DEED', 'profile_sidebar_fill_color': 'DDEEF6', 'profile_text_color': '333333', 'profile_use_background_image': True, 'has_extended_profile': False, 'default_profile': True, 'default_profile_image': False, 'following': False, 'follow_request_sent': False, 'notifications': False, 'translator_type': 'none'}, id=826284528645730304, id_str='826284528645730304', name='AIR News Imphal', screen_name='airnews_imphal', location='Imphal, India', description='Official account of Regional News Unit Imphal, All India Radio News', url='https://t.co/VWWX37MiaF', entities={'url': {'urls': [{'url': 'https://t.co/VWWX37MiaF', 'expanded_url': 'http://www.newsonair.com', 'display_url': 'newsonair.com', 'indices': [0, 23]}]}, 'description': {'urls': []}}, protected=False, followers_count=4714, friends_count=42, listed_count=9, created_at=datetime.datetime(2017, 1, 31, 4, 22, 38), favourites_count=856, utc_offset=None, time_zone=None, geo_enabled=False, verified=False, statuses_count=31500, lang=None, contributors_enabled=False, is_translator=False, is_translation_enabled=False, profile_background_color='F5F8FA', profile_background_image_url=None, profile_background_image_url_https=None, profile_background_tile=False, profile_image_url='http://pbs.twimg.com/profile_images/826286218648416256/L6dJJ1g5_normal.jpg', profile_image_url_https='https://pbs.twimg.com/profile_images/826286218648416256/L6dJJ1g5_normal.jpg', profile_banner_url='https://pbs.twimg.com/profile_banners/826284528645730304/1485837069', profile_link_color='1DA1F2', profile_sidebar_border_color='C0DEED', profile_sidebar_fill_color='DDEEF6', profile_text_color='333333', profile_use_background_image=True, has_extended_profile=False, default_profile=True, default_profile_image=False, following=False, follow_request_sent=False, notifications=False, translator_type='none'), geo=None, coordinates=None, place=None, contributors=None, is_quote_status=False, retweet_count=0, favorite_count=0, favorited=False, retweeted=False, possibly_sensitive=False, lang='en') \n",
      "\n",
      ".....................................\n",
      "\n",
      "Status(_api=<tweepy.api.API object at 0x0000021C9AE36FC8>, _json={'created_at': 'Tue Nov 03 12:35:00 +0000 2020', 'id': 1323604589967495168, 'id_str': '1323604589967495168', 'full_text': \"The dip in India's #COVID19 active cases is supplemented by an exponential rise in recoveries, the Union Health Ministry said. \\n\\nRead more: https://t.co/PS6huIRUBX\", 'truncated': False, 'display_text_range': [0, 163], 'entities': {'hashtags': [{'text': 'COVID19', 'indices': [19, 27]}], 'symbols': [], 'user_mentions': [], 'urls': [{'url': 'https://t.co/PS6huIRUBX', 'expanded_url': 'https://bit.ly/3kTkCIH', 'display_url': 'bit.ly/3kTkCIH', 'indices': [140, 163]}]}, 'metadata': {'iso_language_code': 'en', 'result_type': 'recent'}, 'source': '<a href=\"https://about.twitter.com/products/tweetdeck\" rel=\"nofollow\">TweetDeck</a>', 'in_reply_to_status_id': None, 'in_reply_to_status_id_str': None, 'in_reply_to_user_id': None, 'in_reply_to_user_id_str': None, 'in_reply_to_screen_name': None, 'user': {'id': 1084518784004542464, 'id_str': '1084518784004542464', 'name': 'Opoyi', 'screen_name': 'Opoyis', 'location': '', 'description': 'High-quality trusted conversations around news and information, in 12 languages.', 'url': 'https://t.co/13SulifUgR', 'entities': {'url': {'urls': [{'url': 'https://t.co/13SulifUgR', 'expanded_url': 'http://www.opoyi.com', 'display_url': 'opoyi.com', 'indices': [0, 23]}]}, 'description': {'urls': []}}, 'protected': False, 'followers_count': 9694, 'friends_count': 49, 'listed_count': 3, 'created_at': 'Sun Jan 13 18:33:22 +0000 2019', 'favourites_count': 14, 'utc_offset': None, 'time_zone': None, 'geo_enabled': False, 'verified': False, 'statuses_count': 10594, 'lang': None, 'contributors_enabled': False, 'is_translator': False, 'is_translation_enabled': False, 'profile_background_color': 'F5F8FA', 'profile_background_image_url': None, 'profile_background_image_url_https': None, 'profile_background_tile': False, 'profile_image_url': 'http://pbs.twimg.com/profile_images/1276535290463580162/g3rsV036_normal.png', 'profile_image_url_https': 'https://pbs.twimg.com/profile_images/1276535290463580162/g3rsV036_normal.png', 'profile_banner_url': 'https://pbs.twimg.com/profile_banners/1084518784004542464/1604378584', 'profile_link_color': '1DA1F2', 'profile_sidebar_border_color': 'C0DEED', 'profile_sidebar_fill_color': 'DDEEF6', 'profile_text_color': '333333', 'profile_use_background_image': True, 'has_extended_profile': False, 'default_profile': True, 'default_profile_image': False, 'following': False, 'follow_request_sent': False, 'notifications': False, 'translator_type': 'none'}, 'geo': None, 'coordinates': None, 'place': None, 'contributors': None, 'is_quote_status': False, 'retweet_count': 1, 'favorite_count': 0, 'favorited': False, 'retweeted': False, 'possibly_sensitive': False, 'lang': 'en'}, created_at=datetime.datetime(2020, 11, 3, 12, 35), id=1323604589967495168, id_str='1323604589967495168', full_text=\"The dip in India's #COVID19 active cases is supplemented by an exponential rise in recoveries, the Union Health Ministry said. \\n\\nRead more: https://t.co/PS6huIRUBX\", truncated=False, display_text_range=[0, 163], entities={'hashtags': [{'text': 'COVID19', 'indices': [19, 27]}], 'symbols': [], 'user_mentions': [], 'urls': [{'url': 'https://t.co/PS6huIRUBX', 'expanded_url': 'https://bit.ly/3kTkCIH', 'display_url': 'bit.ly/3kTkCIH', 'indices': [140, 163]}]}, metadata={'iso_language_code': 'en', 'result_type': 'recent'}, source='TweetDeck', source_url='https://about.twitter.com/products/tweetdeck', in_reply_to_status_id=None, in_reply_to_status_id_str=None, in_reply_to_user_id=None, in_reply_to_user_id_str=None, in_reply_to_screen_name=None, author=User(_api=<tweepy.api.API object at 0x0000021C9AE36FC8>, _json={'id': 1084518784004542464, 'id_str': '1084518784004542464', 'name': 'Opoyi', 'screen_name': 'Opoyis', 'location': '', 'description': 'High-quality trusted conversations around news and information, in 12 languages.', 'url': 'https://t.co/13SulifUgR', 'entities': {'url': {'urls': [{'url': 'https://t.co/13SulifUgR', 'expanded_url': 'http://www.opoyi.com', 'display_url': 'opoyi.com', 'indices': [0, 23]}]}, 'description': {'urls': []}}, 'protected': False, 'followers_count': 9694, 'friends_count': 49, 'listed_count': 3, 'created_at': 'Sun Jan 13 18:33:22 +0000 2019', 'favourites_count': 14, 'utc_offset': None, 'time_zone': None, 'geo_enabled': False, 'verified': False, 'statuses_count': 10594, 'lang': None, 'contributors_enabled': False, 'is_translator': False, 'is_translation_enabled': False, 'profile_background_color': 'F5F8FA', 'profile_background_image_url': None, 'profile_background_image_url_https': None, 'profile_background_tile': False, 'profile_image_url': 'http://pbs.twimg.com/profile_images/1276535290463580162/g3rsV036_normal.png', 'profile_image_url_https': 'https://pbs.twimg.com/profile_images/1276535290463580162/g3rsV036_normal.png', 'profile_banner_url': 'https://pbs.twimg.com/profile_banners/1084518784004542464/1604378584', 'profile_link_color': '1DA1F2', 'profile_sidebar_border_color': 'C0DEED', 'profile_sidebar_fill_color': 'DDEEF6', 'profile_text_color': '333333', 'profile_use_background_image': True, 'has_extended_profile': False, 'default_profile': True, 'default_profile_image': False, 'following': False, 'follow_request_sent': False, 'notifications': False, 'translator_type': 'none'}, id=1084518784004542464, id_str='1084518784004542464', name='Opoyi', screen_name='Opoyis', location='', description='High-quality trusted conversations around news and information, in 12 languages.', url='https://t.co/13SulifUgR', entities={'url': {'urls': [{'url': 'https://t.co/13SulifUgR', 'expanded_url': 'http://www.opoyi.com', 'display_url': 'opoyi.com', 'indices': [0, 23]}]}, 'description': {'urls': []}}, protected=False, followers_count=9694, friends_count=49, listed_count=3, created_at=datetime.datetime(2019, 1, 13, 18, 33, 22), favourites_count=14, utc_offset=None, time_zone=None, geo_enabled=False, verified=False, statuses_count=10594, lang=None, contributors_enabled=False, is_translator=False, is_translation_enabled=False, profile_background_color='F5F8FA', profile_background_image_url=None, profile_background_image_url_https=None, profile_background_tile=False, profile_image_url='http://pbs.twimg.com/profile_images/1276535290463580162/g3rsV036_normal.png', profile_image_url_https='https://pbs.twimg.com/profile_images/1276535290463580162/g3rsV036_normal.png', profile_banner_url='https://pbs.twimg.com/profile_banners/1084518784004542464/1604378584', profile_link_color='1DA1F2', profile_sidebar_border_color='C0DEED', profile_sidebar_fill_color='DDEEF6', profile_text_color='333333', profile_use_background_image=True, has_extended_profile=False, default_profile=True, default_profile_image=False, following=False, follow_request_sent=False, notifications=False, translator_type='none'), user=User(_api=<tweepy.api.API object at 0x0000021C9AE36FC8>, _json={'id': 1084518784004542464, 'id_str': '1084518784004542464', 'name': 'Opoyi', 'screen_name': 'Opoyis', 'location': '', 'description': 'High-quality trusted conversations around news and information, in 12 languages.', 'url': 'https://t.co/13SulifUgR', 'entities': {'url': {'urls': [{'url': 'https://t.co/13SulifUgR', 'expanded_url': 'http://www.opoyi.com', 'display_url': 'opoyi.com', 'indices': [0, 23]}]}, 'description': {'urls': []}}, 'protected': False, 'followers_count': 9694, 'friends_count': 49, 'listed_count': 3, 'created_at': 'Sun Jan 13 18:33:22 +0000 2019', 'favourites_count': 14, 'utc_offset': None, 'time_zone': None, 'geo_enabled': False, 'verified': False, 'statuses_count': 10594, 'lang': None, 'contributors_enabled': False, 'is_translator': False, 'is_translation_enabled': False, 'profile_background_color': 'F5F8FA', 'profile_background_image_url': None, 'profile_background_image_url_https': None, 'profile_background_tile': False, 'profile_image_url': 'http://pbs.twimg.com/profile_images/1276535290463580162/g3rsV036_normal.png', 'profile_image_url_https': 'https://pbs.twimg.com/profile_images/1276535290463580162/g3rsV036_normal.png', 'profile_banner_url': 'https://pbs.twimg.com/profile_banners/1084518784004542464/1604378584', 'profile_link_color': '1DA1F2', 'profile_sidebar_border_color': 'C0DEED', 'profile_sidebar_fill_color': 'DDEEF6', 'profile_text_color': '333333', 'profile_use_background_image': True, 'has_extended_profile': False, 'default_profile': True, 'default_profile_image': False, 'following': False, 'follow_request_sent': False, 'notifications': False, 'translator_type': 'none'}, id=1084518784004542464, id_str='1084518784004542464', name='Opoyi', screen_name='Opoyis', location='', description='High-quality trusted conversations around news and information, in 12 languages.', url='https://t.co/13SulifUgR', entities={'url': {'urls': [{'url': 'https://t.co/13SulifUgR', 'expanded_url': 'http://www.opoyi.com', 'display_url': 'opoyi.com', 'indices': [0, 23]}]}, 'description': {'urls': []}}, protected=False, followers_count=9694, friends_count=49, listed_count=3, created_at=datetime.datetime(2019, 1, 13, 18, 33, 22), favourites_count=14, utc_offset=None, time_zone=None, geo_enabled=False, verified=False, statuses_count=10594, lang=None, contributors_enabled=False, is_translator=False, is_translation_enabled=False, profile_background_color='F5F8FA', profile_background_image_url=None, profile_background_image_url_https=None, profile_background_tile=False, profile_image_url='http://pbs.twimg.com/profile_images/1276535290463580162/g3rsV036_normal.png', profile_image_url_https='https://pbs.twimg.com/profile_images/1276535290463580162/g3rsV036_normal.png', profile_banner_url='https://pbs.twimg.com/profile_banners/1084518784004542464/1604378584', profile_link_color='1DA1F2', profile_sidebar_border_color='C0DEED', profile_sidebar_fill_color='DDEEF6', profile_text_color='333333', profile_use_background_image=True, has_extended_profile=False, default_profile=True, default_profile_image=False, following=False, follow_request_sent=False, notifications=False, translator_type='none'), geo=None, coordinates=None, place=None, contributors=None, is_quote_status=False, retweet_count=1, favorite_count=0, favorited=False, retweeted=False, possibly_sensitive=False, lang='en') \n",
      "\n",
      ".....................................\n",
      "\n",
      "Status(_api=<tweepy.api.API object at 0x0000021C9AE36FC8>, _json={'created_at': 'Tue Nov 03 12:28:32 +0000 2020', 'id': 1323602964406169600, 'id_str': '1323602964406169600', 'full_text': 'The Union #HealthMinistry said that #Kerala, #Delhi, #WestBengal and #Manipur has shown an increase in the number of #Coronavirus infection between October 3 and November 3. #COVID19 @MoHFW_INDIA \\nhttps://t.co/m7XVtFERF4', 'truncated': False, 'display_text_range': [0, 220], 'entities': {'hashtags': [{'text': 'HealthMinistry', 'indices': [10, 25]}, {'text': 'Kerala', 'indices': [36, 43]}, {'text': 'Delhi', 'indices': [45, 51]}, {'text': 'WestBengal', 'indices': [53, 64]}, {'text': 'Manipur', 'indices': [69, 77]}, {'text': 'Coronavirus', 'indices': [117, 129]}, {'text': 'COVID19', 'indices': [174, 182]}], 'symbols': [], 'user_mentions': [{'screen_name': 'MoHFW_INDIA', 'name': 'Ministry of Health', 'id': 2596143056, 'id_str': '2596143056', 'indices': [183, 195]}], 'urls': [{'url': 'https://t.co/m7XVtFERF4', 'expanded_url': 'https://www.dailypioneer.com/2020/top-stories/kerala--delhi--bengal--manipur-showing-increase-in-covid-19-cases-from-oct-3-nov-3--health-ministry.html', 'display_url': 'dailypioneer.com/2020/top-stori…', 'indices': [197, 220]}]}, 'metadata': {'iso_language_code': 'en', 'result_type': 'recent'}, 'source': '<a href=\"https://mobile.twitter.com\" rel=\"nofollow\">Twitter Web App</a>', 'in_reply_to_status_id': None, 'in_reply_to_status_id_str': None, 'in_reply_to_user_id': None, 'in_reply_to_user_id_str': None, 'in_reply_to_screen_name': None, 'user': {'id': 470299753, 'id_str': '470299753', 'name': 'The Pioneer', 'screen_name': 'TheDailyPioneer', 'location': '', 'description': \"Twitter account of India's leading independent right-thinking newspaper.\", 'url': 'https://t.co/HZJocXGNYS', 'entities': {'url': {'urls': [{'url': 'https://t.co/HZJocXGNYS', 'expanded_url': 'https://www.dailypioneer.com/', 'display_url': 'dailypioneer.com', 'indices': [0, 23]}]}, 'description': {'urls': []}}, 'protected': False, 'followers_count': 24097, 'friends_count': 101, 'listed_count': 278, 'created_at': 'Sat Jan 21 16:23:26 +0000 2012', 'favourites_count': 74, 'utc_offset': None, 'time_zone': None, 'geo_enabled': False, 'verified': True, 'statuses_count': 74147, 'lang': None, 'contributors_enabled': False, 'is_translator': False, 'is_translation_enabled': False, 'profile_background_color': '131516', 'profile_background_image_url': 'http://abs.twimg.com/images/themes/theme14/bg.gif', 'profile_background_image_url_https': 'https://abs.twimg.com/images/themes/theme14/bg.gif', 'profile_background_tile': True, 'profile_image_url': 'http://pbs.twimg.com/profile_images/907495854289805312/Cgzn3nmb_normal.jpg', 'profile_image_url_https': 'https://pbs.twimg.com/profile_images/907495854289805312/Cgzn3nmb_normal.jpg', 'profile_banner_url': 'https://pbs.twimg.com/profile_banners/470299753/1602920973', 'profile_link_color': '009999', 'profile_sidebar_border_color': 'EEEEEE', 'profile_sidebar_fill_color': 'EFEFEF', 'profile_text_color': '333333', 'profile_use_background_image': True, 'has_extended_profile': True, 'default_profile': False, 'default_profile_image': False, 'following': False, 'follow_request_sent': False, 'notifications': False, 'translator_type': 'none'}, 'geo': None, 'coordinates': None, 'place': None, 'contributors': None, 'is_quote_status': False, 'retweet_count': 0, 'favorite_count': 0, 'favorited': False, 'retweeted': False, 'possibly_sensitive': False, 'lang': 'en'}, created_at=datetime.datetime(2020, 11, 3, 12, 28, 32), id=1323602964406169600, id_str='1323602964406169600', full_text='The Union #HealthMinistry said that #Kerala, #Delhi, #WestBengal and #Manipur has shown an increase in the number of #Coronavirus infection between October 3 and November 3. #COVID19 @MoHFW_INDIA \\nhttps://t.co/m7XVtFERF4', truncated=False, display_text_range=[0, 220], entities={'hashtags': [{'text': 'HealthMinistry', 'indices': [10, 25]}, {'text': 'Kerala', 'indices': [36, 43]}, {'text': 'Delhi', 'indices': [45, 51]}, {'text': 'WestBengal', 'indices': [53, 64]}, {'text': 'Manipur', 'indices': [69, 77]}, {'text': 'Coronavirus', 'indices': [117, 129]}, {'text': 'COVID19', 'indices': [174, 182]}], 'symbols': [], 'user_mentions': [{'screen_name': 'MoHFW_INDIA', 'name': 'Ministry of Health', 'id': 2596143056, 'id_str': '2596143056', 'indices': [183, 195]}], 'urls': [{'url': 'https://t.co/m7XVtFERF4', 'expanded_url': 'https://www.dailypioneer.com/2020/top-stories/kerala--delhi--bengal--manipur-showing-increase-in-covid-19-cases-from-oct-3-nov-3--health-ministry.html', 'display_url': 'dailypioneer.com/2020/top-stori…', 'indices': [197, 220]}]}, metadata={'iso_language_code': 'en', 'result_type': 'recent'}, source='Twitter Web App', source_url='https://mobile.twitter.com', in_reply_to_status_id=None, in_reply_to_status_id_str=None, in_reply_to_user_id=None, in_reply_to_user_id_str=None, in_reply_to_screen_name=None, author=User(_api=<tweepy.api.API object at 0x0000021C9AE36FC8>, _json={'id': 470299753, 'id_str': '470299753', 'name': 'The Pioneer', 'screen_name': 'TheDailyPioneer', 'location': '', 'description': \"Twitter account of India's leading independent right-thinking newspaper.\", 'url': 'https://t.co/HZJocXGNYS', 'entities': {'url': {'urls': [{'url': 'https://t.co/HZJocXGNYS', 'expanded_url': 'https://www.dailypioneer.com/', 'display_url': 'dailypioneer.com', 'indices': [0, 23]}]}, 'description': {'urls': []}}, 'protected': False, 'followers_count': 24097, 'friends_count': 101, 'listed_count': 278, 'created_at': 'Sat Jan 21 16:23:26 +0000 2012', 'favourites_count': 74, 'utc_offset': None, 'time_zone': None, 'geo_enabled': False, 'verified': True, 'statuses_count': 74147, 'lang': None, 'contributors_enabled': False, 'is_translator': False, 'is_translation_enabled': False, 'profile_background_color': '131516', 'profile_background_image_url': 'http://abs.twimg.com/images/themes/theme14/bg.gif', 'profile_background_image_url_https': 'https://abs.twimg.com/images/themes/theme14/bg.gif', 'profile_background_tile': True, 'profile_image_url': 'http://pbs.twimg.com/profile_images/907495854289805312/Cgzn3nmb_normal.jpg', 'profile_image_url_https': 'https://pbs.twimg.com/profile_images/907495854289805312/Cgzn3nmb_normal.jpg', 'profile_banner_url': 'https://pbs.twimg.com/profile_banners/470299753/1602920973', 'profile_link_color': '009999', 'profile_sidebar_border_color': 'EEEEEE', 'profile_sidebar_fill_color': 'EFEFEF', 'profile_text_color': '333333', 'profile_use_background_image': True, 'has_extended_profile': True, 'default_profile': False, 'default_profile_image': False, 'following': False, 'follow_request_sent': False, 'notifications': False, 'translator_type': 'none'}, id=470299753, id_str='470299753', name='The Pioneer', screen_name='TheDailyPioneer', location='', description=\"Twitter account of India's leading independent right-thinking newspaper.\", url='https://t.co/HZJocXGNYS', entities={'url': {'urls': [{'url': 'https://t.co/HZJocXGNYS', 'expanded_url': 'https://www.dailypioneer.com/', 'display_url': 'dailypioneer.com', 'indices': [0, 23]}]}, 'description': {'urls': []}}, protected=False, followers_count=24097, friends_count=101, listed_count=278, created_at=datetime.datetime(2012, 1, 21, 16, 23, 26), favourites_count=74, utc_offset=None, time_zone=None, geo_enabled=False, verified=True, statuses_count=74147, lang=None, contributors_enabled=False, is_translator=False, is_translation_enabled=False, profile_background_color='131516', profile_background_image_url='http://abs.twimg.com/images/themes/theme14/bg.gif', profile_background_image_url_https='https://abs.twimg.com/images/themes/theme14/bg.gif', profile_background_tile=True, profile_image_url='http://pbs.twimg.com/profile_images/907495854289805312/Cgzn3nmb_normal.jpg', profile_image_url_https='https://pbs.twimg.com/profile_images/907495854289805312/Cgzn3nmb_normal.jpg', profile_banner_url='https://pbs.twimg.com/profile_banners/470299753/1602920973', profile_link_color='009999', profile_sidebar_border_color='EEEEEE', profile_sidebar_fill_color='EFEFEF', profile_text_color='333333', profile_use_background_image=True, has_extended_profile=True, default_profile=False, default_profile_image=False, following=False, follow_request_sent=False, notifications=False, translator_type='none'), user=User(_api=<tweepy.api.API object at 0x0000021C9AE36FC8>, _json={'id': 470299753, 'id_str': '470299753', 'name': 'The Pioneer', 'screen_name': 'TheDailyPioneer', 'location': '', 'description': \"Twitter account of India's leading independent right-thinking newspaper.\", 'url': 'https://t.co/HZJocXGNYS', 'entities': {'url': {'urls': [{'url': 'https://t.co/HZJocXGNYS', 'expanded_url': 'https://www.dailypioneer.com/', 'display_url': 'dailypioneer.com', 'indices': [0, 23]}]}, 'description': {'urls': []}}, 'protected': False, 'followers_count': 24097, 'friends_count': 101, 'listed_count': 278, 'created_at': 'Sat Jan 21 16:23:26 +0000 2012', 'favourites_count': 74, 'utc_offset': None, 'time_zone': None, 'geo_enabled': False, 'verified': True, 'statuses_count': 74147, 'lang': None, 'contributors_enabled': False, 'is_translator': False, 'is_translation_enabled': False, 'profile_background_color': '131516', 'profile_background_image_url': 'http://abs.twimg.com/images/themes/theme14/bg.gif', 'profile_background_image_url_https': 'https://abs.twimg.com/images/themes/theme14/bg.gif', 'profile_background_tile': True, 'profile_image_url': 'http://pbs.twimg.com/profile_images/907495854289805312/Cgzn3nmb_normal.jpg', 'profile_image_url_https': 'https://pbs.twimg.com/profile_images/907495854289805312/Cgzn3nmb_normal.jpg', 'profile_banner_url': 'https://pbs.twimg.com/profile_banners/470299753/1602920973', 'profile_link_color': '009999', 'profile_sidebar_border_color': 'EEEEEE', 'profile_sidebar_fill_color': 'EFEFEF', 'profile_text_color': '333333', 'profile_use_background_image': True, 'has_extended_profile': True, 'default_profile': False, 'default_profile_image': False, 'following': False, 'follow_request_sent': False, 'notifications': False, 'translator_type': 'none'}, id=470299753, id_str='470299753', name='The Pioneer', screen_name='TheDailyPioneer', location='', description=\"Twitter account of India's leading independent right-thinking newspaper.\", url='https://t.co/HZJocXGNYS', entities={'url': {'urls': [{'url': 'https://t.co/HZJocXGNYS', 'expanded_url': 'https://www.dailypioneer.com/', 'display_url': 'dailypioneer.com', 'indices': [0, 23]}]}, 'description': {'urls': []}}, protected=False, followers_count=24097, friends_count=101, listed_count=278, created_at=datetime.datetime(2012, 1, 21, 16, 23, 26), favourites_count=74, utc_offset=None, time_zone=None, geo_enabled=False, verified=True, statuses_count=74147, lang=None, contributors_enabled=False, is_translator=False, is_translation_enabled=False, profile_background_color='131516', profile_background_image_url='http://abs.twimg.com/images/themes/theme14/bg.gif', profile_background_image_url_https='https://abs.twimg.com/images/themes/theme14/bg.gif', profile_background_tile=True, profile_image_url='http://pbs.twimg.com/profile_images/907495854289805312/Cgzn3nmb_normal.jpg', profile_image_url_https='https://pbs.twimg.com/profile_images/907495854289805312/Cgzn3nmb_normal.jpg', profile_banner_url='https://pbs.twimg.com/profile_banners/470299753/1602920973', profile_link_color='009999', profile_sidebar_border_color='EEEEEE', profile_sidebar_fill_color='EFEFEF', profile_text_color='333333', profile_use_background_image=True, has_extended_profile=True, default_profile=False, default_profile_image=False, following=False, follow_request_sent=False, notifications=False, translator_type='none'), geo=None, coordinates=None, place=None, contributors=None, is_quote_status=False, retweet_count=0, favorite_count=0, favorited=False, retweeted=False, possibly_sensitive=False, lang='en') \n",
      "\n",
      ".....................................\n",
      "\n",
      "Status(_api=<tweepy.api.API object at 0x0000021C9AE36FC8>, _json={'created_at': 'Tue Nov 03 12:28:10 +0000 2020', 'id': 1323602869250105346, 'id_str': '1323602869250105346', 'full_text': '#COVID19  You know its #DarkTimes when the so called \"Greatest Country in the World \"😏  is on par with one of the poorest.....            US - Covid-19 cases 9.38 M    India - Covid-19 cases 8.27M   🤔hummm', 'truncated': False, 'display_text_range': [0, 205], 'entities': {'hashtags': [{'text': 'COVID19', 'indices': [0, 8]}, {'text': 'DarkTimes', 'indices': [23, 33]}], 'symbols': [], 'user_mentions': [], 'urls': []}, 'metadata': {'iso_language_code': 'en', 'result_type': 'recent'}, 'source': '<a href=\"http://twitter.com/download/iphone\" rel=\"nofollow\">Twitter for iPhone</a>', 'in_reply_to_status_id': None, 'in_reply_to_status_id_str': None, 'in_reply_to_user_id': None, 'in_reply_to_user_id_str': None, 'in_reply_to_screen_name': None, 'user': {'id': 392707911, 'id_str': '392707911', 'name': 'Wendy R.', 'screen_name': 'Wendy_knows', 'location': 'Toronto, Ontario, Canada', 'description': \"Tweet from the 3 H's... Heart.. Head and Humour..... And Remember to Watch Your Karma 👀 For It's Always Watching You 👁👁\", 'url': None, 'entities': {'description': {'urls': []}}, 'protected': False, 'followers_count': 121, 'friends_count': 634, 'listed_count': 3, 'created_at': 'Mon Oct 17 13:12:28 +0000 2011', 'favourites_count': 758, 'utc_offset': None, 'time_zone': None, 'geo_enabled': True, 'verified': False, 'statuses_count': 1273, 'lang': None, 'contributors_enabled': False, 'is_translator': False, 'is_translation_enabled': False, 'profile_background_color': 'C0DEED', 'profile_background_image_url': 'http://abs.twimg.com/images/themes/theme1/bg.png', 'profile_background_image_url_https': 'https://abs.twimg.com/images/themes/theme1/bg.png', 'profile_background_tile': False, 'profile_image_url': 'http://pbs.twimg.com/profile_images/596349272397746176/PI1O_OtZ_normal.jpg', 'profile_image_url_https': 'https://pbs.twimg.com/profile_images/596349272397746176/PI1O_OtZ_normal.jpg', 'profile_banner_url': 'https://pbs.twimg.com/profile_banners/392707911/1392665485', 'profile_link_color': '1DA1F2', 'profile_sidebar_border_color': 'C0DEED', 'profile_sidebar_fill_color': 'DDEEF6', 'profile_text_color': '333333', 'profile_use_background_image': True, 'has_extended_profile': True, 'default_profile': True, 'default_profile_image': False, 'following': False, 'follow_request_sent': False, 'notifications': False, 'translator_type': 'none'}, 'geo': None, 'coordinates': None, 'place': None, 'contributors': None, 'is_quote_status': False, 'retweet_count': 0, 'favorite_count': 1, 'favorited': False, 'retweeted': False, 'lang': 'en'}, created_at=datetime.datetime(2020, 11, 3, 12, 28, 10), id=1323602869250105346, id_str='1323602869250105346', full_text='#COVID19  You know its #DarkTimes when the so called \"Greatest Country in the World \"😏  is on par with one of the poorest.....            US - Covid-19 cases 9.38 M    India - Covid-19 cases 8.27M   🤔hummm', truncated=False, display_text_range=[0, 205], entities={'hashtags': [{'text': 'COVID19', 'indices': [0, 8]}, {'text': 'DarkTimes', 'indices': [23, 33]}], 'symbols': [], 'user_mentions': [], 'urls': []}, metadata={'iso_language_code': 'en', 'result_type': 'recent'}, source='Twitter for iPhone', source_url='http://twitter.com/download/iphone', in_reply_to_status_id=None, in_reply_to_status_id_str=None, in_reply_to_user_id=None, in_reply_to_user_id_str=None, in_reply_to_screen_name=None, author=User(_api=<tweepy.api.API object at 0x0000021C9AE36FC8>, _json={'id': 392707911, 'id_str': '392707911', 'name': 'Wendy R.', 'screen_name': 'Wendy_knows', 'location': 'Toronto, Ontario, Canada', 'description': \"Tweet from the 3 H's... Heart.. Head and Humour..... And Remember to Watch Your Karma 👀 For It's Always Watching You 👁👁\", 'url': None, 'entities': {'description': {'urls': []}}, 'protected': False, 'followers_count': 121, 'friends_count': 634, 'listed_count': 3, 'created_at': 'Mon Oct 17 13:12:28 +0000 2011', 'favourites_count': 758, 'utc_offset': None, 'time_zone': None, 'geo_enabled': True, 'verified': False, 'statuses_count': 1273, 'lang': None, 'contributors_enabled': False, 'is_translator': False, 'is_translation_enabled': False, 'profile_background_color': 'C0DEED', 'profile_background_image_url': 'http://abs.twimg.com/images/themes/theme1/bg.png', 'profile_background_image_url_https': 'https://abs.twimg.com/images/themes/theme1/bg.png', 'profile_background_tile': False, 'profile_image_url': 'http://pbs.twimg.com/profile_images/596349272397746176/PI1O_OtZ_normal.jpg', 'profile_image_url_https': 'https://pbs.twimg.com/profile_images/596349272397746176/PI1O_OtZ_normal.jpg', 'profile_banner_url': 'https://pbs.twimg.com/profile_banners/392707911/1392665485', 'profile_link_color': '1DA1F2', 'profile_sidebar_border_color': 'C0DEED', 'profile_sidebar_fill_color': 'DDEEF6', 'profile_text_color': '333333', 'profile_use_background_image': True, 'has_extended_profile': True, 'default_profile': True, 'default_profile_image': False, 'following': False, 'follow_request_sent': False, 'notifications': False, 'translator_type': 'none'}, id=392707911, id_str='392707911', name='Wendy R.', screen_name='Wendy_knows', location='Toronto, Ontario, Canada', description=\"Tweet from the 3 H's... Heart.. Head and Humour..... And Remember to Watch Your Karma 👀 For It's Always Watching You 👁👁\", url=None, entities={'description': {'urls': []}}, protected=False, followers_count=121, friends_count=634, listed_count=3, created_at=datetime.datetime(2011, 10, 17, 13, 12, 28), favourites_count=758, utc_offset=None, time_zone=None, geo_enabled=True, verified=False, statuses_count=1273, lang=None, contributors_enabled=False, is_translator=False, is_translation_enabled=False, profile_background_color='C0DEED', profile_background_image_url='http://abs.twimg.com/images/themes/theme1/bg.png', profile_background_image_url_https='https://abs.twimg.com/images/themes/theme1/bg.png', profile_background_tile=False, profile_image_url='http://pbs.twimg.com/profile_images/596349272397746176/PI1O_OtZ_normal.jpg', profile_image_url_https='https://pbs.twimg.com/profile_images/596349272397746176/PI1O_OtZ_normal.jpg', profile_banner_url='https://pbs.twimg.com/profile_banners/392707911/1392665485', profile_link_color='1DA1F2', profile_sidebar_border_color='C0DEED', profile_sidebar_fill_color='DDEEF6', profile_text_color='333333', profile_use_background_image=True, has_extended_profile=True, default_profile=True, default_profile_image=False, following=False, follow_request_sent=False, notifications=False, translator_type='none'), user=User(_api=<tweepy.api.API object at 0x0000021C9AE36FC8>, _json={'id': 392707911, 'id_str': '392707911', 'name': 'Wendy R.', 'screen_name': 'Wendy_knows', 'location': 'Toronto, Ontario, Canada', 'description': \"Tweet from the 3 H's... Heart.. Head and Humour..... And Remember to Watch Your Karma 👀 For It's Always Watching You 👁👁\", 'url': None, 'entities': {'description': {'urls': []}}, 'protected': False, 'followers_count': 121, 'friends_count': 634, 'listed_count': 3, 'created_at': 'Mon Oct 17 13:12:28 +0000 2011', 'favourites_count': 758, 'utc_offset': None, 'time_zone': None, 'geo_enabled': True, 'verified': False, 'statuses_count': 1273, 'lang': None, 'contributors_enabled': False, 'is_translator': False, 'is_translation_enabled': False, 'profile_background_color': 'C0DEED', 'profile_background_image_url': 'http://abs.twimg.com/images/themes/theme1/bg.png', 'profile_background_image_url_https': 'https://abs.twimg.com/images/themes/theme1/bg.png', 'profile_background_tile': False, 'profile_image_url': 'http://pbs.twimg.com/profile_images/596349272397746176/PI1O_OtZ_normal.jpg', 'profile_image_url_https': 'https://pbs.twimg.com/profile_images/596349272397746176/PI1O_OtZ_normal.jpg', 'profile_banner_url': 'https://pbs.twimg.com/profile_banners/392707911/1392665485', 'profile_link_color': '1DA1F2', 'profile_sidebar_border_color': 'C0DEED', 'profile_sidebar_fill_color': 'DDEEF6', 'profile_text_color': '333333', 'profile_use_background_image': True, 'has_extended_profile': True, 'default_profile': True, 'default_profile_image': False, 'following': False, 'follow_request_sent': False, 'notifications': False, 'translator_type': 'none'}, id=392707911, id_str='392707911', name='Wendy R.', screen_name='Wendy_knows', location='Toronto, Ontario, Canada', description=\"Tweet from the 3 H's... Heart.. Head and Humour..... And Remember to Watch Your Karma 👀 For It's Always Watching You 👁👁\", url=None, entities={'description': {'urls': []}}, protected=False, followers_count=121, friends_count=634, listed_count=3, created_at=datetime.datetime(2011, 10, 17, 13, 12, 28), favourites_count=758, utc_offset=None, time_zone=None, geo_enabled=True, verified=False, statuses_count=1273, lang=None, contributors_enabled=False, is_translator=False, is_translation_enabled=False, profile_background_color='C0DEED', profile_background_image_url='http://abs.twimg.com/images/themes/theme1/bg.png', profile_background_image_url_https='https://abs.twimg.com/images/themes/theme1/bg.png', profile_background_tile=False, profile_image_url='http://pbs.twimg.com/profile_images/596349272397746176/PI1O_OtZ_normal.jpg', profile_image_url_https='https://pbs.twimg.com/profile_images/596349272397746176/PI1O_OtZ_normal.jpg', profile_banner_url='https://pbs.twimg.com/profile_banners/392707911/1392665485', profile_link_color='1DA1F2', profile_sidebar_border_color='C0DEED', profile_sidebar_fill_color='DDEEF6', profile_text_color='333333', profile_use_background_image=True, has_extended_profile=True, default_profile=True, default_profile_image=False, following=False, follow_request_sent=False, notifications=False, translator_type='none'), geo=None, coordinates=None, place=None, contributors=None, is_quote_status=False, retweet_count=0, favorite_count=1, favorited=False, retweeted=False, lang='en') \n",
      "\n",
      ".....................................\n",
      "\n"
     ]
    }
   ],
   "source": [
    "# Searching tweets using search function\n",
    "Tweets = api.search( query , count=10 , lang='en' , exclude='retweets' , tweet_mode='extended' )\n",
    "for tweet in Tweets:\n",
    "    print(tweet,\"\\n\")\n",
    "    print(\".....................................\\n\")"
   ]
  },
  {
   "cell_type": "code",
   "execution_count": 8,
   "metadata": {},
   "outputs": [
    {
     "name": "stdout",
     "output_type": "stream",
     "text": [
      "Empty DataFrame\n",
      "Columns: [Tweets, User, User_statuses_count, user_followers, User_location, User_verified, fav_count, rt_count, tweet_date]\n",
      "Index: []\n"
     ]
    }
   ],
   "source": [
    "# Creating a Dataframe for storing the Tweets.\n",
    "df = pd.DataFrame(columns = ['Tweets' , 'User' , 'User_statuses_count' , \n",
    "                            'user_followers' , 'User_location' , 'User_verified' ,\n",
    "                            'fav_count' , 'rt_count' , 'tweet_date'] )\n",
    "print(df)"
   ]
  },
  {
   "cell_type": "code",
   "execution_count": 9,
   "metadata": {},
   "outputs": [],
   "source": [
    "# Searching Tweets and saving them in the DataFrame.\n",
    "def stream(data, file_name):\n",
    "    i = 0\n",
    "    for tweet in tweepy.Cursor(api.search, q=data, count=100, exclude = 'retweets', lang='en').items():\n",
    "        print(i, end='\\r')\n",
    "        df.loc[i, 'Tweets'] = tweet.text\n",
    "        df.loc[i, 'User'] = tweet.user.name\n",
    "        df.loc[i, 'User_statuses_count'] = tweet.user.statuses_count\n",
    "        df.loc[i, 'user_followers'] = tweet.user.followers_count\n",
    "        df.loc[i, 'User_location'] = tweet.user.location\n",
    "        df.loc[i, 'User_verified'] = tweet.user.verified\n",
    "        df.loc[i, 'fav_count'] = tweet.favorite_count\n",
    "        df.loc[i, 'rt_count'] = tweet.retweet_count\n",
    "        df.loc[i, 'tweet_date'] = tweet.created_at\n",
    "        df.to_excel('{}.xlsx'.format(file_name))\n",
    "        i = i+1\n",
    "        if i == 2000:\n",
    "            break\n",
    "        else:\n",
    "            pass"
   ]
  },
  {
   "cell_type": "code",
   "execution_count": 10,
   "metadata": {},
   "outputs": [
    {
     "name": "stdout",
     "output_type": "stream",
     "text": [
      "1999\r"
     ]
    }
   ],
   "source": [
    "stream(query , file_name='my_tweets')"
   ]
  },
  {
   "cell_type": "code",
   "execution_count": 11,
   "metadata": {},
   "outputs": [
    {
     "data": {
      "text/html": [
       "<div>\n",
       "<style scoped>\n",
       "    .dataframe tbody tr th:only-of-type {\n",
       "        vertical-align: middle;\n",
       "    }\n",
       "\n",
       "    .dataframe tbody tr th {\n",
       "        vertical-align: top;\n",
       "    }\n",
       "\n",
       "    .dataframe thead th {\n",
       "        text-align: right;\n",
       "    }\n",
       "</style>\n",
       "<table border=\"1\" class=\"dataframe\">\n",
       "  <thead>\n",
       "    <tr style=\"text-align: right;\">\n",
       "      <th></th>\n",
       "      <th>Tweets</th>\n",
       "      <th>User</th>\n",
       "      <th>User_statuses_count</th>\n",
       "      <th>user_followers</th>\n",
       "      <th>User_location</th>\n",
       "      <th>User_verified</th>\n",
       "      <th>fav_count</th>\n",
       "      <th>rt_count</th>\n",
       "      <th>tweet_date</th>\n",
       "    </tr>\n",
       "  </thead>\n",
       "  <tbody>\n",
       "    <tr>\n",
       "      <th>0</th>\n",
       "      <td>Tracking #COVID19 | November 3, 2020 (6:30 pm,...</td>\n",
       "      <td>The Times Of India</td>\n",
       "      <td>610027</td>\n",
       "      <td>13204586</td>\n",
       "      <td>New Delhi</td>\n",
       "      <td>True</td>\n",
       "      <td>26</td>\n",
       "      <td>1</td>\n",
       "      <td>2020-11-03 13:08:23</td>\n",
       "    </tr>\n",
       "    <tr>\n",
       "      <th>1</th>\n",
       "      <td>Daily COVID 19 Cases &amp;amp; Deaths Decline In I...</td>\n",
       "      <td>Mathrubhumi News</td>\n",
       "      <td>46861</td>\n",
       "      <td>50696</td>\n",
       "      <td>Kerala, India</td>\n",
       "      <td>True</td>\n",
       "      <td>1</td>\n",
       "      <td>0</td>\n",
       "      <td>2020-11-03 13:03:02</td>\n",
       "    </tr>\n",
       "    <tr>\n",
       "      <th>2</th>\n",
       "      <td>Active #COVID__19 cases in India — 539,431\\n\\n...</td>\n",
       "      <td>ORF</td>\n",
       "      <td>156349</td>\n",
       "      <td>80297</td>\n",
       "      <td>India</td>\n",
       "      <td>True</td>\n",
       "      <td>5</td>\n",
       "      <td>3</td>\n",
       "      <td>2020-11-03 13:00:42</td>\n",
       "    </tr>\n",
       "    <tr>\n",
       "      <th>3</th>\n",
       "      <td>COVID 19 cases in India until : 03/11/2020 18:...</td>\n",
       "      <td>Coronavirus Bot 🇮🇳</td>\n",
       "      <td>2862</td>\n",
       "      <td>116</td>\n",
       "      <td></td>\n",
       "      <td>False</td>\n",
       "      <td>0</td>\n",
       "      <td>0</td>\n",
       "      <td>2020-11-03 13:00:00</td>\n",
       "    </tr>\n",
       "    <tr>\n",
       "      <th>4</th>\n",
       "      <td>Explaining India's miraculous Covid recovery\\n...</td>\n",
       "      <td>NEWS9</td>\n",
       "      <td>93254</td>\n",
       "      <td>26271</td>\n",
       "      <td>BENGALURU</td>\n",
       "      <td>True</td>\n",
       "      <td>1</td>\n",
       "      <td>0</td>\n",
       "      <td>2020-11-03 12:57:30</td>\n",
       "    </tr>\n",
       "  </tbody>\n",
       "</table>\n",
       "</div>"
      ],
      "text/plain": [
       "                                              Tweets                User  \\\n",
       "0  Tracking #COVID19 | November 3, 2020 (6:30 pm,...  The Times Of India   \n",
       "1  Daily COVID 19 Cases &amp; Deaths Decline In I...    Mathrubhumi News   \n",
       "2  Active #COVID__19 cases in India — 539,431\\n\\n...                 ORF   \n",
       "3  COVID 19 cases in India until : 03/11/2020 18:...  Coronavirus Bot 🇮🇳   \n",
       "4  Explaining India's miraculous Covid recovery\\n...               NEWS9   \n",
       "\n",
       "  User_statuses_count user_followers  User_location User_verified fav_count  \\\n",
       "0              610027       13204586      New Delhi          True        26   \n",
       "1               46861          50696  Kerala, India          True         1   \n",
       "2              156349          80297          India          True         5   \n",
       "3                2862            116                        False         0   \n",
       "4               93254          26271      BENGALURU          True         1   \n",
       "\n",
       "  rt_count           tweet_date  \n",
       "0        1  2020-11-03 13:08:23  \n",
       "1        0  2020-11-03 13:03:02  \n",
       "2        3  2020-11-03 13:00:42  \n",
       "3        0  2020-11-03 13:00:00  \n",
       "4        0  2020-11-03 12:57:30  "
      ]
     },
     "execution_count": 11,
     "metadata": {},
     "output_type": "execute_result"
    }
   ],
   "source": [
    "df.head()"
   ]
  },
  {
   "cell_type": "code",
   "execution_count": 12,
   "metadata": {},
   "outputs": [],
   "source": [
    "# Cleaning the Tweets.\n",
    "import re\n",
    "def clean_tweet(tweet):\n",
    "    return ' '.join(re.sub('(@[A-Za-z0-9]+)|(#[A-Za-z0-9]+)|([^0-9A-Za-z \\t])|(\\w+:\\/\\/\\S+)', ' ', tweet).split())"
   ]
  },
  {
   "cell_type": "code",
   "execution_count": 13,
   "metadata": {},
   "outputs": [],
   "source": [
    "# Analyzing the Tweets.\n",
    "def analyze_sentiment(tweet):\n",
    "    analysis = TextBlob(tweet)\n",
    "    if analysis.sentiment.polarity > 0:\n",
    "        return 'Positive'\n",
    "    elif analysis.sentiment.polarity == 0:\n",
    "        return 'Neutral'\n",
    "    else:\n",
    "        return 'Negative'"
   ]
  },
  {
   "cell_type": "code",
   "execution_count": 14,
   "metadata": {},
   "outputs": [],
   "source": [
    "# Adding the Cleaned Tweets to the Dataframe.\n",
    "df['clean_tweet'] = df['Tweets'].apply(lambda x : clean_tweet(x))"
   ]
  },
  {
   "cell_type": "code",
   "execution_count": 15,
   "metadata": {},
   "outputs": [
    {
     "data": {
      "text/html": [
       "<div>\n",
       "<style scoped>\n",
       "    .dataframe tbody tr th:only-of-type {\n",
       "        vertical-align: middle;\n",
       "    }\n",
       "\n",
       "    .dataframe tbody tr th {\n",
       "        vertical-align: top;\n",
       "    }\n",
       "\n",
       "    .dataframe thead th {\n",
       "        text-align: right;\n",
       "    }\n",
       "</style>\n",
       "<table border=\"1\" class=\"dataframe\">\n",
       "  <thead>\n",
       "    <tr style=\"text-align: right;\">\n",
       "      <th></th>\n",
       "      <th>Tweets</th>\n",
       "      <th>User</th>\n",
       "      <th>User_statuses_count</th>\n",
       "      <th>user_followers</th>\n",
       "      <th>User_location</th>\n",
       "      <th>User_verified</th>\n",
       "      <th>fav_count</th>\n",
       "      <th>rt_count</th>\n",
       "      <th>tweet_date</th>\n",
       "      <th>clean_tweet</th>\n",
       "    </tr>\n",
       "  </thead>\n",
       "  <tbody>\n",
       "    <tr>\n",
       "      <th>0</th>\n",
       "      <td>Tracking #COVID19 | November 3, 2020 (6:30 pm,...</td>\n",
       "      <td>The Times Of India</td>\n",
       "      <td>610027</td>\n",
       "      <td>13204586</td>\n",
       "      <td>New Delhi</td>\n",
       "      <td>True</td>\n",
       "      <td>26</td>\n",
       "      <td>1</td>\n",
       "      <td>2020-11-03 13:08:23</td>\n",
       "      <td>Tracking November 3 2020 6 30 pm IST India s t...</td>\n",
       "    </tr>\n",
       "    <tr>\n",
       "      <th>1</th>\n",
       "      <td>Daily COVID 19 Cases &amp;amp; Deaths Decline In I...</td>\n",
       "      <td>Mathrubhumi News</td>\n",
       "      <td>46861</td>\n",
       "      <td>50696</td>\n",
       "      <td>Kerala, India</td>\n",
       "      <td>True</td>\n",
       "      <td>1</td>\n",
       "      <td>0</td>\n",
       "      <td>2020-11-03 13:03:02</td>\n",
       "      <td>Daily COVID 19 Cases amp Deaths Decline In India</td>\n",
       "    </tr>\n",
       "    <tr>\n",
       "      <th>2</th>\n",
       "      <td>Active #COVID__19 cases in India — 539,431\\n\\n...</td>\n",
       "      <td>ORF</td>\n",
       "      <td>156349</td>\n",
       "      <td>80297</td>\n",
       "      <td>India</td>\n",
       "      <td>True</td>\n",
       "      <td>5</td>\n",
       "      <td>3</td>\n",
       "      <td>2020-11-03 13:00:42</td>\n",
       "      <td>Active 19 cases in India 539 431</td>\n",
       "    </tr>\n",
       "    <tr>\n",
       "      <th>3</th>\n",
       "      <td>COVID 19 cases in India until : 03/11/2020 18:...</td>\n",
       "      <td>Coronavirus Bot 🇮🇳</td>\n",
       "      <td>2862</td>\n",
       "      <td>116</td>\n",
       "      <td></td>\n",
       "      <td>False</td>\n",
       "      <td>0</td>\n",
       "      <td>0</td>\n",
       "      <td>2020-11-03 13:00:00</td>\n",
       "      <td>COVID 19 cases in India until 03 11 2020 18 30...</td>\n",
       "    </tr>\n",
       "    <tr>\n",
       "      <th>4</th>\n",
       "      <td>Explaining India's miraculous Covid recovery\\n...</td>\n",
       "      <td>NEWS9</td>\n",
       "      <td>93254</td>\n",
       "      <td>26271</td>\n",
       "      <td>BENGALURU</td>\n",
       "      <td>True</td>\n",
       "      <td>1</td>\n",
       "      <td>0</td>\n",
       "      <td>2020-11-03 12:57:30</td>\n",
       "      <td>Explaining India s miraculous Covid recovery T...</td>\n",
       "    </tr>\n",
       "  </tbody>\n",
       "</table>\n",
       "</div>"
      ],
      "text/plain": [
       "                                              Tweets                User  \\\n",
       "0  Tracking #COVID19 | November 3, 2020 (6:30 pm,...  The Times Of India   \n",
       "1  Daily COVID 19 Cases &amp; Deaths Decline In I...    Mathrubhumi News   \n",
       "2  Active #COVID__19 cases in India — 539,431\\n\\n...                 ORF   \n",
       "3  COVID 19 cases in India until : 03/11/2020 18:...  Coronavirus Bot 🇮🇳   \n",
       "4  Explaining India's miraculous Covid recovery\\n...               NEWS9   \n",
       "\n",
       "  User_statuses_count user_followers  User_location User_verified fav_count  \\\n",
       "0              610027       13204586      New Delhi          True        26   \n",
       "1               46861          50696  Kerala, India          True         1   \n",
       "2              156349          80297          India          True         5   \n",
       "3                2862            116                        False         0   \n",
       "4               93254          26271      BENGALURU          True         1   \n",
       "\n",
       "  rt_count           tweet_date  \\\n",
       "0        1  2020-11-03 13:08:23   \n",
       "1        0  2020-11-03 13:03:02   \n",
       "2        3  2020-11-03 13:00:42   \n",
       "3        0  2020-11-03 13:00:00   \n",
       "4        0  2020-11-03 12:57:30   \n",
       "\n",
       "                                         clean_tweet  \n",
       "0  Tracking November 3 2020 6 30 pm IST India s t...  \n",
       "1   Daily COVID 19 Cases amp Deaths Decline In India  \n",
       "2                   Active 19 cases in India 539 431  \n",
       "3  COVID 19 cases in India until 03 11 2020 18 30...  \n",
       "4  Explaining India s miraculous Covid recovery T...  "
      ]
     },
     "execution_count": 15,
     "metadata": {},
     "output_type": "execute_result"
    }
   ],
   "source": [
    "df.head()"
   ]
  },
  {
   "cell_type": "code",
   "execution_count": 16,
   "metadata": {},
   "outputs": [
    {
     "data": {
      "text/html": [
       "<div>\n",
       "<style scoped>\n",
       "    .dataframe tbody tr th:only-of-type {\n",
       "        vertical-align: middle;\n",
       "    }\n",
       "\n",
       "    .dataframe tbody tr th {\n",
       "        vertical-align: top;\n",
       "    }\n",
       "\n",
       "    .dataframe thead th {\n",
       "        text-align: right;\n",
       "    }\n",
       "</style>\n",
       "<table border=\"1\" class=\"dataframe\">\n",
       "  <thead>\n",
       "    <tr style=\"text-align: right;\">\n",
       "      <th></th>\n",
       "      <th>Tweets</th>\n",
       "      <th>User</th>\n",
       "      <th>User_statuses_count</th>\n",
       "      <th>user_followers</th>\n",
       "      <th>User_location</th>\n",
       "      <th>User_verified</th>\n",
       "      <th>fav_count</th>\n",
       "      <th>rt_count</th>\n",
       "      <th>tweet_date</th>\n",
       "      <th>clean_tweet</th>\n",
       "      <th>Sentiment</th>\n",
       "    </tr>\n",
       "  </thead>\n",
       "  <tbody>\n",
       "    <tr>\n",
       "      <th>0</th>\n",
       "      <td>Tracking #COVID19 | November 3, 2020 (6:30 pm,...</td>\n",
       "      <td>The Times Of India</td>\n",
       "      <td>610027</td>\n",
       "      <td>13204586</td>\n",
       "      <td>New Delhi</td>\n",
       "      <td>True</td>\n",
       "      <td>26</td>\n",
       "      <td>1</td>\n",
       "      <td>2020-11-03 13:08:23</td>\n",
       "      <td>Tracking November 3 2020 6 30 pm IST India s t...</td>\n",
       "      <td>Positive</td>\n",
       "    </tr>\n",
       "    <tr>\n",
       "      <th>1</th>\n",
       "      <td>Daily COVID 19 Cases &amp;amp; Deaths Decline In I...</td>\n",
       "      <td>Mathrubhumi News</td>\n",
       "      <td>46861</td>\n",
       "      <td>50696</td>\n",
       "      <td>Kerala, India</td>\n",
       "      <td>True</td>\n",
       "      <td>1</td>\n",
       "      <td>0</td>\n",
       "      <td>2020-11-03 13:03:02</td>\n",
       "      <td>Daily COVID 19 Cases amp Deaths Decline In India</td>\n",
       "      <td>Neutral</td>\n",
       "    </tr>\n",
       "    <tr>\n",
       "      <th>2</th>\n",
       "      <td>Active #COVID__19 cases in India — 539,431\\n\\n...</td>\n",
       "      <td>ORF</td>\n",
       "      <td>156349</td>\n",
       "      <td>80297</td>\n",
       "      <td>India</td>\n",
       "      <td>True</td>\n",
       "      <td>5</td>\n",
       "      <td>3</td>\n",
       "      <td>2020-11-03 13:00:42</td>\n",
       "      <td>Active 19 cases in India 539 431</td>\n",
       "      <td>Negative</td>\n",
       "    </tr>\n",
       "    <tr>\n",
       "      <th>3</th>\n",
       "      <td>COVID 19 cases in India until : 03/11/2020 18:...</td>\n",
       "      <td>Coronavirus Bot 🇮🇳</td>\n",
       "      <td>2862</td>\n",
       "      <td>116</td>\n",
       "      <td></td>\n",
       "      <td>False</td>\n",
       "      <td>0</td>\n",
       "      <td>0</td>\n",
       "      <td>2020-11-03 13:00:00</td>\n",
       "      <td>COVID 19 cases in India until 03 11 2020 18 30...</td>\n",
       "      <td>Negative</td>\n",
       "    </tr>\n",
       "    <tr>\n",
       "      <th>4</th>\n",
       "      <td>Explaining India's miraculous Covid recovery\\n...</td>\n",
       "      <td>NEWS9</td>\n",
       "      <td>93254</td>\n",
       "      <td>26271</td>\n",
       "      <td>BENGALURU</td>\n",
       "      <td>True</td>\n",
       "      <td>1</td>\n",
       "      <td>0</td>\n",
       "      <td>2020-11-03 12:57:30</td>\n",
       "      <td>Explaining India s miraculous Covid recovery T...</td>\n",
       "      <td>Positive</td>\n",
       "    </tr>\n",
       "  </tbody>\n",
       "</table>\n",
       "</div>"
      ],
      "text/plain": [
       "                                              Tweets                User  \\\n",
       "0  Tracking #COVID19 | November 3, 2020 (6:30 pm,...  The Times Of India   \n",
       "1  Daily COVID 19 Cases &amp; Deaths Decline In I...    Mathrubhumi News   \n",
       "2  Active #COVID__19 cases in India — 539,431\\n\\n...                 ORF   \n",
       "3  COVID 19 cases in India until : 03/11/2020 18:...  Coronavirus Bot 🇮🇳   \n",
       "4  Explaining India's miraculous Covid recovery\\n...               NEWS9   \n",
       "\n",
       "  User_statuses_count user_followers  User_location User_verified fav_count  \\\n",
       "0              610027       13204586      New Delhi          True        26   \n",
       "1               46861          50696  Kerala, India          True         1   \n",
       "2              156349          80297          India          True         5   \n",
       "3                2862            116                        False         0   \n",
       "4               93254          26271      BENGALURU          True         1   \n",
       "\n",
       "  rt_count           tweet_date  \\\n",
       "0        1  2020-11-03 13:08:23   \n",
       "1        0  2020-11-03 13:03:02   \n",
       "2        3  2020-11-03 13:00:42   \n",
       "3        0  2020-11-03 13:00:00   \n",
       "4        0  2020-11-03 12:57:30   \n",
       "\n",
       "                                         clean_tweet Sentiment  \n",
       "0  Tracking November 3 2020 6 30 pm IST India s t...  Positive  \n",
       "1   Daily COVID 19 Cases amp Deaths Decline In India   Neutral  \n",
       "2                   Active 19 cases in India 539 431  Negative  \n",
       "3  COVID 19 cases in India until 03 11 2020 18 30...  Negative  \n",
       "4  Explaining India s miraculous Covid recovery T...  Positive  "
      ]
     },
     "execution_count": 16,
     "metadata": {},
     "output_type": "execute_result"
    }
   ],
   "source": [
    "# Checking the Sentiment of the Tweet.\n",
    "df['Sentiment'] = df['clean_tweet'].apply(lambda x : analyze_sentiment(x) )\n",
    "df.head()"
   ]
  },
  {
   "cell_type": "code",
   "execution_count": 17,
   "metadata": {},
   "outputs": [],
   "source": [
    "# Checking the Particular Tweet."
   ]
  },
  {
   "cell_type": "code",
   "execution_count": 18,
   "metadata": {
    "scrolled": true
   },
   "outputs": [
    {
     "name": "stdout",
     "output_type": "stream",
     "text": [
      "Original tweet:\n",
      " Tracking #COVID19 | November 3, 2020 (6:30 pm, IST)\n",
      "\n",
      "India's total cases reach 8,267,623\n",
      "\n",
      "For complete coverage on… https://t.co/8dcsgh5NoC\n",
      "\n",
      "Clean tweet:\n",
      " Tracking November 3 2020 6 30 pm IST India s total cases reach 8 267 623 For complete coverage on\n",
      "\n",
      "Sentiment of the tweet:\n",
      " Positive\n"
     ]
    }
   ],
   "source": [
    "n = 0\n",
    "print(\"Original tweet:\\n\",df['Tweets'][n])\n",
    "print()\n",
    "print(\"Clean tweet:\\n\",df['clean_tweet'][n])\n",
    "print()\n",
    "print(\"Sentiment of the tweet:\\n\",df['Sentiment'][n])"
   ]
  },
  {
   "cell_type": "code",
   "execution_count": 20,
   "metadata": {},
   "outputs": [
    {
     "name": "stdout",
     "output_type": "stream",
     "text": [
      "Original tweet:\n",
      " Covid-19 deaths aren't rising as fast in Europe and US, despite soaring new infections. That doesn't mean the virus… https://t.co/msGJM7S281\n",
      "\n",
      "Clean tweet:\n",
      " Covid 19 deaths aren t rising as fast in Europe and US despite soaring new infections That doesn t mean the virus\n",
      "\n",
      "Sentiment of the tweet:\n",
      " Positive\n"
     ]
    }
   ],
   "source": [
    "n = 1550\n",
    "print(\"Original tweet:\\n\",df['Tweets'][n])\n",
    "print()\n",
    "print(\"Clean tweet:\\n\",df['clean_tweet'][n])\n",
    "print()\n",
    "print(\"Sentiment of the tweet:\\n\",df['Sentiment'][n])"
   ]
  },
  {
   "cell_type": "code",
   "execution_count": 21,
   "metadata": {},
   "outputs": [
    {
     "name": "stdout",
     "output_type": "stream",
     "text": [
      "Original tweet:\n",
      " COVID 19 cases in India until : 30/10/2020 09:30\n",
      "\n",
      "Total Cases: 8088046 [+0]😅\n",
      "Active: 593617🖖🏽\n",
      "Recovered: 7371898 [+… https://t.co/MOkKHIZm8R\n",
      "\n",
      "Clean tweet:\n",
      " COVID 19 cases in India until 30 10 2020 09 30 Total Cases 8088046 0 Active 593617 Recovered 7371898\n",
      "\n",
      "Sentiment of the tweet:\n",
      " Negative\n"
     ]
    }
   ],
   "source": [
    "n = 1200\n",
    "print(\"Original tweet:\\n\",df['Tweets'][n])\n",
    "print()\n",
    "print(\"Clean tweet:\\n\",df['clean_tweet'][n])\n",
    "print()\n",
    "print(\"Sentiment of the tweet:\\n\",df['Sentiment'][n])"
   ]
  },
  {
   "cell_type": "code",
   "execution_count": 22,
   "metadata": {},
   "outputs": [
    {
     "name": "stdout",
     "output_type": "stream",
     "text": [
      "Tweets with Positive Sentiment: 963\n",
      "Tweets with Neutral Sentiment: 553\n",
      "Tweets with Negative Sentiment: 484\n"
     ]
    }
   ],
   "source": [
    "print(\"Tweets with Positive Sentiment:\",df[df.Sentiment == 'Positive'].shape[0])\n",
    "print(\"Tweets with Neutral Sentiment:\",df[df.Sentiment == 'Neutral'].shape[0])\n",
    "print(\"Tweets with Negative Sentiment:\",df[df.Sentiment == 'Negative'].shape[0])"
   ]
  }
 ],
 "metadata": {
  "kernelspec": {
   "display_name": "Python 3",
   "language": "python",
   "name": "python3"
  },
  "language_info": {
   "codemirror_mode": {
    "name": "ipython",
    "version": 3
   },
   "file_extension": ".py",
   "mimetype": "text/x-python",
   "name": "python",
   "nbconvert_exporter": "python",
   "pygments_lexer": "ipython3",
   "version": "3.7.6"
  },
  "toc": {
   "base_numbering": 1,
   "nav_menu": {},
   "number_sections": true,
   "sideBar": true,
   "skip_h1_title": false,
   "title_cell": "Table of Contents",
   "title_sidebar": "Contents",
   "toc_cell": false,
   "toc_position": {},
   "toc_section_display": true,
   "toc_window_display": false
  }
 },
 "nbformat": 4,
 "nbformat_minor": 4
}
