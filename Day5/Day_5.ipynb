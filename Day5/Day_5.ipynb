{
 "cells": [
  {
   "cell_type": "markdown",
   "metadata": {},
   "source": [
    "# Question 1\n",
    "    Write a Python program to find the first 20 non-even prime natural numbers."
   ]
  },
  {
   "cell_type": "code",
   "execution_count": 3,
   "metadata": {},
   "outputs": [
    {
     "name": "stdout",
     "output_type": "stream",
     "text": [
      "Enter the number of numbers you want : 20\n",
      "Prime Numbers are:\n",
      "3,5,7,11,13,17,19,23,29,31,37,41,43,47,53,59,61,67,71,73,"
     ]
    }
   ],
   "source": [
    "n = int(input(\"Enter the number of numbers you want : \"))\n",
    "prme = []\n",
    "prime_nos = []\n",
    "for num in range(1,n*10):\n",
    "    if num > 2:\n",
    "        for i in range(2, num):\n",
    "            if (num%i)==0:\n",
    "                break\n",
    "        else:\n",
    "            prime_nos.append(num)\n",
    "            \n",
    "\n",
    "for x in prime_nos:\n",
    "    continue\n",
    "for k in range(0,20):\n",
    "    prme.append(prime_nos[k])\n",
    "print(\"Prime Numbers are:\")\n",
    "a=0\n",
    "for m in prme:\n",
    "    print(m,end=\",\")\n",
    "    a+=1"
   ]
  },
  {
   "cell_type": "markdown",
   "metadata": {},
   "source": [
    "# Question 2\n",
    "    Write a Python program to implement 15 functions of string."
   ]
  },
  {
   "cell_type": "code",
   "execution_count": 4,
   "metadata": {},
   "outputs": [
    {
     "name": "stdout",
     "output_type": "stream",
     "text": [
      "This is a string number\n"
     ]
    }
   ],
   "source": [
    "#1\n",
    "Str1 = \"this is a string number\"\n",
    "print(str.capitalize(Str1))"
   ]
  },
  {
   "cell_type": "code",
   "execution_count": 7,
   "metadata": {},
   "outputs": [
    {
     "name": "stdout",
     "output_type": "stream",
     "text": [
      "this is a string number\n"
     ]
    }
   ],
   "source": [
    "#2\n",
    "Str2 = \"This is a String Number\"\n",
    "print(str.casefold(Str2))"
   ]
  },
  {
   "cell_type": "code",
   "execution_count": 8,
   "metadata": {},
   "outputs": [
    {
     "name": "stdout",
     "output_type": "stream",
     "text": [
      "3\n"
     ]
    }
   ],
   "source": [
    "#3\n",
    "Str1 = \"this is a string number\"\n",
    "print(Str1.count(\"i\"))"
   ]
  },
  {
   "cell_type": "code",
   "execution_count": 9,
   "metadata": {},
   "outputs": [
    {
     "name": "stdout",
     "output_type": "stream",
     "text": [
      "tHIS IS A sTRING nUMBER \n"
     ]
    }
   ],
   "source": [
    "#4\n",
    "Str2 = \"This is a String Number \"\n",
    "print(Str2.swapcase())"
   ]
  },
  {
   "cell_type": "code",
   "execution_count": 10,
   "metadata": {},
   "outputs": [
    {
     "name": "stdout",
     "output_type": "stream",
     "text": [
      "This Is A String Number\n"
     ]
    }
   ],
   "source": [
    "#5\n",
    "Str2 = \"This is a String Number\"\n",
    "print(Str2.title())"
   ]
  },
  {
   "cell_type": "code",
   "execution_count": 11,
   "metadata": {},
   "outputs": [
    {
     "name": "stdout",
     "output_type": "stream",
     "text": [
      "this is a string number\n"
     ]
    }
   ],
   "source": [
    "#6\n",
    "Str2 = \"This is a String Number\"\n",
    "print(Str2.lower())"
   ]
  },
  {
   "cell_type": "code",
   "execution_count": 13,
   "metadata": {},
   "outputs": [
    {
     "name": "stdout",
     "output_type": "stream",
     "text": [
      "Thwas was a String Number \n"
     ]
    }
   ],
   "source": [
    "#7\n",
    "Str2 = \"This is a String Number \"\n",
    "print(Str2.replace('is','was'))"
   ]
  },
  {
   "cell_type": "code",
   "execution_count": 14,
   "metadata": {},
   "outputs": [
    {
     "name": "stdout",
     "output_type": "stream",
     "text": [
      "this is a string number This is a String Number\n"
     ]
    }
   ],
   "source": [
    "#8\n",
    "Str1 = \"this is a string number\"\n",
    "Str2 = \"This is a String Number\"\n",
    "print(Str1 + \" \" + Str2)"
   ]
  },
  {
   "cell_type": "code",
   "execution_count": 15,
   "metadata": {},
   "outputs": [
    {
     "name": "stdout",
     "output_type": "stream",
     "text": [
      "False\n"
     ]
    }
   ],
   "source": [
    "#9\n",
    "Str1 = \"this is a string number\"\n",
    "print(Str1.isupper())"
   ]
  },
  {
   "cell_type": "code",
   "execution_count": 16,
   "metadata": {},
   "outputs": [
    {
     "name": "stdout",
     "output_type": "stream",
     "text": [
      "True\n"
     ]
    }
   ],
   "source": [
    "#10\n",
    "Str1 = \"this is a string number\"\n",
    "print(Str1.islower())"
   ]
  },
  {
   "cell_type": "code",
   "execution_count": 17,
   "metadata": {},
   "outputs": [
    {
     "name": "stdout",
     "output_type": "stream",
     "text": [
      "12\n"
     ]
    }
   ],
   "source": [
    "#11\n",
    "Str1 = \"this is a string number\"\n",
    "print(Str1.find('ri'))"
   ]
  },
  {
   "cell_type": "code",
   "execution_count": 18,
   "metadata": {},
   "outputs": [
    {
     "name": "stdout",
     "output_type": "stream",
     "text": [
      "False\n"
     ]
    }
   ],
   "source": [
    "#12\n",
    "Str1 = \"this is a string number\"\n",
    "print(Str1.isnumeric())"
   ]
  },
  {
   "cell_type": "code",
   "execution_count": 19,
   "metadata": {},
   "outputs": [
    {
     "name": "stdout",
     "output_type": "stream",
     "text": [
      "This Is A String Number \n"
     ]
    }
   ],
   "source": [
    "#13\n",
    "Str2 = \"This is a String Number \"\n",
    "print(Str2.title())"
   ]
  },
  {
   "cell_type": "code",
   "execution_count": 20,
   "metadata": {},
   "outputs": [
    {
     "name": "stdout",
     "output_type": "stream",
     "text": [
      "True\n"
     ]
    }
   ],
   "source": [
    "#14\n",
    "str3 = \"mynameisanish\"\n",
    "print(str3.isalpha())"
   ]
  },
  {
   "cell_type": "code",
   "execution_count": 21,
   "metadata": {},
   "outputs": [
    {
     "name": "stdout",
     "output_type": "stream",
     "text": [
      "22\n"
     ]
    }
   ],
   "source": [
    "#15\n",
    "Str = \"Let it be, let it be, let it be\"\n",
    "print(Str.rfind(\"let it\"))"
   ]
  },
  {
   "cell_type": "markdown",
   "metadata": {},
   "source": [
    "# Question 3\n",
    "    Write a Python program to check if the given string is a Palindrome or Anagram or None of them.Display the message         accordingly to the user."
   ]
  },
  {
   "cell_type": "code",
   "execution_count": 22,
   "metadata": {},
   "outputs": [
    {
     "name": "stdout",
     "output_type": "stream",
     "text": [
      "Enter a String :ababa\n",
      "Enter second string:baaab\n",
      "ababa and baaab are both Palindrome and Anagram\n"
     ]
    }
   ],
   "source": [
    "s = input(\"Enter a String :\")\n",
    "s1=input(\"Enter second string:\")\n",
    "if (s == s[::-1] and s1 == s1[::-1]) and sorted(s)==sorted(s1):\n",
    "    print(f\"{s} and {s1} are both Palindrome and Anagram\")\n",
    "elif (s == s[::-1] or s1 == s1[::-1]) and sorted(s)==sorted(s1):\n",
    "    if s == s[::-1]:\n",
    "        print(s,\": String is palindrome\")\n",
    "    else:\n",
    "        print(s,\": String is not palindrome\")\n",
    "    if s1 == s1[::-1]:\n",
    "        print(s1,\": String is palindrome\")\n",
    "    else:\n",
    "        print(s1,\": String is not palindrome\")\n",
    "    print(f\"{s} and {s1} are Anagram \")\n",
    "else:\n",
    "    if sorted(s)==sorted(s1):\n",
    "        print(f\"{s} and {s1} are Anagram \")\n",
    "    else:\n",
    "        print(f\"{s} and {s1} are not even Palindrome nor Anagram\")"
   ]
  },
  {
   "cell_type": "markdown",
   "metadata": {},
   "source": [
    "# Question 4\n",
    "    Write a Python's user defined function that removes all the additional characters from the string and converts it           finally to lower case using built-in lower()."
   ]
  },
  {
   "cell_type": "code",
   "execution_count": 26,
   "metadata": {},
   "outputs": [
    {
     "name": "stdout",
     "output_type": "stream",
     "text": [
      "Enter a string :\"ANISH Yadav @AI/ML @LetsUpgrade\"\n",
      "Original String is : \"ANISH Yadav @AI/ML @LetsUpgrade\"\n",
      "Replaced String is : anishyadavaimlletsupgrade\n"
     ]
    }
   ],
   "source": [
    "def rep_char(x):\n",
    "    invalid_l = ['!','@','#','$','%','^','&','*','(',')','_','=','/','-','+','-','<','>','?',' ','.','\"',\"'\"]\n",
    "    for i in invalid_l:\n",
    "        x = x.replace(i,'')\n",
    "        x =x.lower()\n",
    "    print(\"Replaced String is :\",x)\n",
    "    \n",
    "    \n",
    "s = input(\"Enter a string :\")\n",
    "print(\"Original String is :\",s)\n",
    "rep_char(s)"
   ]
  },
  {
   "cell_type": "code",
   "execution_count": null,
   "metadata": {},
   "outputs": [],
   "source": []
  }
 ],
 "metadata": {
  "kernelspec": {
   "display_name": "Python 3",
   "language": "python",
   "name": "python3"
  },
  "language_info": {
   "codemirror_mode": {
    "name": "ipython",
    "version": 3
   },
   "file_extension": ".py",
   "mimetype": "text/x-python",
   "name": "python",
   "nbconvert_exporter": "python",
   "pygments_lexer": "ipython3",
   "version": "3.7.6"
  },
  "toc": {
   "base_numbering": 1,
   "nav_menu": {},
   "number_sections": true,
   "sideBar": true,
   "skip_h1_title": false,
   "title_cell": "Table of Contents",
   "title_sidebar": "Contents",
   "toc_cell": false,
   "toc_position": {},
   "toc_section_display": true,
   "toc_window_display": false
  }
 },
 "nbformat": 4,
 "nbformat_minor": 4
}
