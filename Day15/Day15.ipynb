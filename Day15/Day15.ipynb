{
 "cells": [
  {
   "cell_type": "code",
   "execution_count": 1,
   "metadata": {},
   "outputs": [],
   "source": [
    "import numpy as np"
   ]
  },
  {
   "cell_type": "markdown",
   "metadata": {},
   "source": [
    "### Create a 3x3x3 array with random values"
   ]
  },
  {
   "cell_type": "code",
   "execution_count": 2,
   "metadata": {},
   "outputs": [
    {
     "data": {
      "text/plain": [
       "array([[[0.01516026, 0.28748162, 0.21316046],\n",
       "        [0.23948356, 0.56813287, 0.76938522],\n",
       "        [0.6305844 , 0.6802216 , 0.90974787]],\n",
       "\n",
       "       [[0.32649057, 0.91431465, 0.45274008],\n",
       "        [0.85425541, 0.60590321, 0.41942912],\n",
       "        [0.1536342 , 0.85001863, 0.50185686]],\n",
       "\n",
       "       [[0.42045046, 0.41502991, 0.43591905],\n",
       "        [0.60665137, 0.75964279, 0.05433294],\n",
       "        [0.8777618 , 0.29648863, 0.78448318]]])"
      ]
     },
     "execution_count": 2,
     "metadata": {},
     "output_type": "execute_result"
    }
   ],
   "source": [
    "arr = np.random.rand(3,3,3)\n",
    "arr"
   ]
  },
  {
   "cell_type": "markdown",
   "metadata": {},
   "source": [
    "### Create a 5x5 matrix with values 1,2,3,4 just below the diagonal"
   ]
  },
  {
   "cell_type": "code",
   "execution_count": 3,
   "metadata": {},
   "outputs": [
    {
     "data": {
      "text/plain": [
       "array([[0, 0, 0, 0, 0],\n",
       "       [1, 0, 0, 0, 0],\n",
       "       [0, 2, 0, 0, 0],\n",
       "       [0, 0, 3, 0, 0],\n",
       "       [0, 0, 0, 4, 0]])"
      ]
     },
     "execution_count": 3,
     "metadata": {},
     "output_type": "execute_result"
    }
   ],
   "source": [
    "arr = np.diag(np.arange(4) + 1, k = -1)\n",
    "arr"
   ]
  },
  {
   "cell_type": "markdown",
   "metadata": {},
   "source": [
    "### Create a 8x8 matrix and fill it with a checkerboard pattern"
   ]
  },
  {
   "cell_type": "code",
   "execution_count": 4,
   "metadata": {},
   "outputs": [
    {
     "data": {
      "text/plain": [
       "array([[0, 1, 0, 1, 0, 1, 0, 1],\n",
       "       [1, 0, 1, 0, 1, 0, 1, 0],\n",
       "       [0, 1, 0, 1, 0, 1, 0, 1],\n",
       "       [1, 0, 1, 0, 1, 0, 1, 0],\n",
       "       [0, 1, 0, 1, 0, 1, 0, 1],\n",
       "       [1, 0, 1, 0, 1, 0, 1, 0],\n",
       "       [0, 1, 0, 1, 0, 1, 0, 1],\n",
       "       [1, 0, 1, 0, 1, 0, 1, 0]])"
      ]
     },
     "execution_count": 4,
     "metadata": {},
     "output_type": "execute_result"
    }
   ],
   "source": [
    "arr = np.tile(np.array([[0,1],[1,0]]), (4,4))\n",
    "arr"
   ]
  },
  {
   "cell_type": "markdown",
   "metadata": {},
   "source": [
    "### Normalize a 5x5 random matrix"
   ]
  },
  {
   "cell_type": "code",
   "execution_count": 5,
   "metadata": {},
   "outputs": [
    {
     "name": "stdout",
     "output_type": "stream",
     "text": [
      "Original Matrix \n",
      " [[0.06163291 0.37676409 0.52107943 0.00223985 0.93334492]\n",
      " [0.12924178 0.54521868 0.40639062 0.71805465 0.6914037 ]\n",
      " [0.66525174 0.49999185 0.88177755 0.79866521 0.02059188]\n",
      " [0.07729977 0.22494497 0.99014255 0.77635438 0.69967473]\n",
      " [0.63702645 0.14114781 0.37399456 0.13806547 0.38564327]]\n",
      "\n",
      "\n",
      "Normalized Matrix \n",
      " [[-1.3509118  -0.30288277  0.17706552 -1.54843481  1.54813331]\n",
      " [-1.12606559  0.2573452  -0.20435406  0.8321443   0.74351147]\n",
      " [ 0.65653814  0.10693474  1.37663615  1.10023017 -1.48740163]\n",
      " [-1.29880869 -0.80778629  1.73702472  1.02603123  0.77101838]\n",
      " [ 0.56266952 -1.08646979 -0.31209335 -1.09672071 -0.27335336]]\n"
     ]
    }
   ],
   "source": [
    "arr = np.random.random((5,5))\n",
    "print(\"Original Matrix \\n\",arr)\n",
    "arr1 = (arr - np.mean (arr)) / (np.std (arr))\n",
    "print(\"\\n\\nNormalized Matrix \\n\",arr1)"
   ]
  },
  {
   "cell_type": "markdown",
   "metadata": {},
   "source": [
    "### How to find common values between two arrays"
   ]
  },
  {
   "cell_type": "code",
   "execution_count": 6,
   "metadata": {},
   "outputs": [
    {
     "data": {
      "text/plain": [
       "array([2, 3, 5])"
      ]
     },
     "execution_count": 6,
     "metadata": {},
     "output_type": "execute_result"
    }
   ],
   "source": [
    "arr1 = np.array([1,2,3,4,5])\n",
    "arr2 = np.array([2,3,5,6])\n",
    "\n",
    "np.intersect1d(arr1, arr2)"
   ]
  },
  {
   "cell_type": "markdown",
   "metadata": {},
   "source": [
    "### How to get the dates of yesterday, today and tomorrow?"
   ]
  },
  {
   "cell_type": "code",
   "execution_count": 7,
   "metadata": {},
   "outputs": [
    {
     "name": "stdout",
     "output_type": "stream",
     "text": [
      "Yesterday : 2020-07-26 \n",
      "Today : 2020-07-27 \n",
      "Tomorrow : 2020-07-28\n"
     ]
    }
   ],
   "source": [
    "from datetime import date, timedelta\n",
    "yesterday = np.datetime64('today') - np.timedelta64(1)\n",
    "today     = np.datetime64('today')\n",
    "tomorrow  = np.datetime64('today') + np.timedelta64(1)\n",
    "print(\"Yesterday :\",yesterday,\"\\nToday :\", today,\"\\nTomorrow :\", tomorrow)"
   ]
  },
  {
   "cell_type": "markdown",
   "metadata": {},
   "source": [
    "### Consider two random array A and B, check if they are equal"
   ]
  },
  {
   "cell_type": "code",
   "execution_count": 8,
   "metadata": {},
   "outputs": [
    {
     "name": "stdout",
     "output_type": "stream",
     "text": [
      "Array1:\n",
      "[[0.48851396 0.69702148 0.74904686]\n",
      " [0.3208558  0.55190468 0.77603725]\n",
      " [0.15221586 0.98665185 0.19059139]]\n",
      "\n",
      "\n",
      "Array2:\n",
      "[[0.62679152 0.90978645 0.73783244]\n",
      " [0.28534426 0.5781111  0.61000183]\n",
      " [0.87032414 0.06567677 0.92805951]]\n",
      "\n",
      "\n",
      "Equality: False\n"
     ]
    }
   ],
   "source": [
    "arr1 = np.random.rand(3,3)\n",
    "arr2 = np.random.rand(3,3)\n",
    "\n",
    "equal = np.array_equal(arr1,arr2)\n",
    "print(f'Array1:\\n{arr1}\\n\\n')\n",
    "print(f'Array2:\\n{arr2}\\n\\n')\n",
    "print(f'Equality: {equal}')"
   ]
  },
  {
   "cell_type": "markdown",
   "metadata": {},
   "source": [
    "### Create random vector of size 10 and replace the maximum value by 0"
   ]
  },
  {
   "cell_type": "code",
   "execution_count": 9,
   "metadata": {},
   "outputs": [
    {
     "name": "stdout",
     "output_type": "stream",
     "text": [
      "Array is : [0.36496944 0.36738242 0.89455137 0.00507606 0.47582923 0.88528896\n",
      " 0.23260024 0.06338827 0.27093303 0.56950563]\n",
      "New Array : [0.36496944 0.36738242 0.         0.00507606 0.47582923 0.88528896\n",
      " 0.23260024 0.06338827 0.27093303 0.56950563]\n"
     ]
    }
   ],
   "source": [
    "arr = np.random.rand(10)\n",
    "print(\"Array is :\",arr)\n",
    "arr[arr.argmax()] = 0\n",
    "print(\"New Array :\",arr)"
   ]
  },
  {
   "cell_type": "markdown",
   "metadata": {},
   "source": [
    "### How to print all the values of an array?"
   ]
  },
  {
   "cell_type": "code",
   "execution_count": 10,
   "metadata": {},
   "outputs": [
    {
     "name": "stdout",
     "output_type": "stream",
     "text": [
      "[[1. 1. 1. 1. 1.]\n",
      " [1. 1. 1. 1. 1.]\n",
      " [1. 1. 1. 1. 1.]\n",
      " [1. 1. 1. 1. 1.]\n",
      " [1. 1. 1. 1. 1.]]\n"
     ]
    }
   ],
   "source": [
    "arr = np.ones((5, 5))\n",
    "print(arr)"
   ]
  },
  {
   "cell_type": "markdown",
   "metadata": {},
   "source": [
    "### Subtract the mean of each row of a matrix"
   ]
  },
  {
   "cell_type": "code",
   "execution_count": 11,
   "metadata": {},
   "outputs": [
    {
     "data": {
      "text/plain": [
       "array([[-0.47156126,  0.11122459,  0.36033667],\n",
       "       [-0.0383392 ,  0.1527984 , -0.1144592 ],\n",
       "       [ 0.29552647, -0.14715728, -0.14836919]])"
      ]
     },
     "execution_count": 11,
     "metadata": {},
     "output_type": "execute_result"
    }
   ],
   "source": [
    "arr = np.random.rand(3,3)\n",
    "arr_mean = arr - arr.mean(axis=1, keepdims=True)\n",
    "\n",
    "arr_mean"
   ]
  },
  {
   "cell_type": "markdown",
   "metadata": {},
   "source": [
    "### Consider a given vector, how to add 1 to each element indexed by a second vector (be careful with repeated indices)?"
   ]
  },
  {
   "cell_type": "code",
   "execution_count": 12,
   "metadata": {},
   "outputs": [
    {
     "name": "stdout",
     "output_type": "stream",
     "text": [
      "Initial Vector:\n",
      " [1. 1. 1. 1. 1. 1. 1. 1. 1. 1.]\n",
      "Random Values:\n",
      " [7 6 6 2 1 0 4 0 7 5 0 2 9 8 9 7 3 8 6 7]\n",
      "Resultant Vector:\n",
      " [4. 2. 3. 2. 2. 2. 4. 5. 3. 3.]\n"
     ]
    }
   ],
   "source": [
    "a = np.ones(10)\n",
    "print(\"Initial Vector:\\n\",a)\n",
    "b = np.random.randint(0, len(a),20)\n",
    "print(\"Random Values:\\n\",b)\n",
    "a += np.bincount(b, minlength=len(a))\n",
    "print(\"Resultant Vector:\\n\",a)"
   ]
  },
  {
   "cell_type": "markdown",
   "metadata": {},
   "source": [
    "### How to get the diagonal of a dot product?"
   ]
  },
  {
   "cell_type": "code",
   "execution_count": 13,
   "metadata": {},
   "outputs": [
    {
     "name": "stdout",
     "output_type": "stream",
     "text": [
      "Array1 :\n",
      " [[6 0 0]\n",
      " [9 9 9]\n",
      " [7 8 5]]\n",
      "Array2 :\n",
      " [[6 9 2]\n",
      " [3 2 3]\n",
      " [7 5 2]]\n"
     ]
    },
    {
     "data": {
      "text/plain": [
       "array([ 36, 144,  48])"
      ]
     },
     "execution_count": 13,
     "metadata": {},
     "output_type": "execute_result"
    }
   ],
   "source": [
    "arr1 = np.random.randint(0,10,(3,3))\n",
    "arr2 = np.random.randint(0,10,(3,3))\n",
    "print(\"Array1 :\\n\",arr1)\n",
    "print(\"Array2 :\\n\",arr2)\n",
    "np.diag(np.dot(arr1, arr2))"
   ]
  },
  {
   "cell_type": "markdown",
   "metadata": {},
   "source": [
    "### How to find the most frequent value in an array?"
   ]
  },
  {
   "cell_type": "code",
   "execution_count": 14,
   "metadata": {},
   "outputs": [
    {
     "name": "stdout",
     "output_type": "stream",
     "text": [
      "[3 3 7 8 9 6 8 8 8 2 9 0 8 3 3 4 7 0 4 1]\n"
     ]
    },
    {
     "data": {
      "text/plain": [
       "8"
      ]
     },
     "execution_count": 14,
     "metadata": {},
     "output_type": "execute_result"
    }
   ],
   "source": [
    "arr = np.random.randint(0,10,20)\n",
    "print(arr)\n",
    "np.bincount(arr).argmax()"
   ]
  },
  {
   "cell_type": "markdown",
   "metadata": {},
   "source": [
    "### How to get the n largest values of an array"
   ]
  },
  {
   "cell_type": "code",
   "execution_count": 15,
   "metadata": {},
   "outputs": [
    {
     "name": "stdout",
     "output_type": "stream",
     "text": [
      "[756  78 185 727 668 227 489 808 260 320 475 765 926 675 385 347 677 398\n",
      " 573 951 322 233 582 540 471 764 455  18  75 755 341 767 464 994 931 919\n",
      " 757 791 435 240 191 791 812 802 225 385 595 614 558 552]\n",
      "Enter the value of n: 6\n",
      "6 Largest values in array:  [812 919 926 931 951 994]\n"
     ]
    }
   ],
   "source": [
    "arr = np.random.randint(0,1000,50)\n",
    "print(arr)\n",
    "np.random.shuffle(arr)\n",
    "n = int(input('Enter the value of n: '))\n",
    "print(f\"{n} Largest values in array: \", arr[np.argsort(arr)[-n:]])"
   ]
  },
  {
   "cell_type": "markdown",
   "metadata": {},
   "source": [
    "### How to create a record array from a regular array?"
   ]
  },
  {
   "cell_type": "code",
   "execution_count": 16,
   "metadata": {},
   "outputs": [
    {
     "name": "stdout",
     "output_type": "stream",
     "text": [
      "[['English' '81' '73']\n",
      " ['Maths' '95' '99']\n",
      " ['Hisory' '90.5' '93']]\n",
      "\n",
      "RECORD ARRAY\n",
      "[(b'English', 81. , 73) (b'Maths', 95. , 99) (b'Hisory', 90.5, 93)]\n"
     ]
    },
    {
     "data": {
      "text/plain": [
       "numpy.recarray"
      ]
     },
     "execution_count": 16,
     "metadata": {},
     "output_type": "execute_result"
    }
   ],
   "source": [
    "arr = np.array([(\"English\", 81, 73),\n",
    "                 (\"Maths\", 95, 99),\n",
    "             (\"Hisory\", 90.5, 93)])\n",
    "\n",
    "print(arr)\n",
    "print(\"\\nRECORD ARRAY\")\n",
    "record = np.core.records.fromarrays(arr.T, names='col1, col2, col3', formats = 'S80, f8, i8')\n",
    "print(record)\n",
    "type(record)"
   ]
  },
  {
   "cell_type": "code",
   "execution_count": null,
   "metadata": {},
   "outputs": [],
   "source": []
  }
 ],
 "metadata": {
  "kernelspec": {
   "display_name": "Python 3",
   "language": "python",
   "name": "python3"
  },
  "language_info": {
   "codemirror_mode": {
    "name": "ipython",
    "version": 3
   },
   "file_extension": ".py",
   "mimetype": "text/x-python",
   "name": "python",
   "nbconvert_exporter": "python",
   "pygments_lexer": "ipython3",
   "version": "3.7.6"
  },
  "toc": {
   "base_numbering": 1,
   "nav_menu": {},
   "number_sections": true,
   "sideBar": true,
   "skip_h1_title": false,
   "title_cell": "Table of Contents",
   "title_sidebar": "Contents",
   "toc_cell": false,
   "toc_position": {},
   "toc_section_display": true,
   "toc_window_display": false
  }
 },
 "nbformat": 4,
 "nbformat_minor": 4
}
