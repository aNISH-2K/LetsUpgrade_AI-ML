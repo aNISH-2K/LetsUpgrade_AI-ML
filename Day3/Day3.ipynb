{
 "cells": [
  {
   "cell_type": "markdown",
   "metadata": {},
   "source": [
    "# Question 1"
   ]
  },
  {
   "cell_type": "code",
   "execution_count": 2,
   "metadata": {},
   "outputs": [
    {
     "name": "stdout",
     "output_type": "stream",
     "text": [
      "(5+5j)\n"
     ]
    }
   ],
   "source": [
    "num1 = 10 + 11j\n",
    "num2 = 5 + 6j\n",
    "subtraction = num1 - num2\n",
    "print(subtraction)"
   ]
  },
  {
   "cell_type": "markdown",
   "metadata": {},
   "source": [
    "# Question 2"
   ]
  },
  {
   "cell_type": "code",
   "execution_count": 4,
   "metadata": {},
   "outputs": [
    {
     "name": "stdout",
     "output_type": "stream",
     "text": [
      "Fourth root of 256  is :  4.0\n"
     ]
    }
   ],
   "source": [
    "num = 256\n",
    "fourth_root = num **(1/4)\n",
    "print(\"Fourth root of\",num, \" is : \",fourth_root)"
   ]
  },
  {
   "cell_type": "markdown",
   "metadata": {},
   "source": [
    "# Question 3"
   ]
  },
  {
   "cell_type": "code",
   "execution_count": 6,
   "metadata": {},
   "outputs": [
    {
     "name": "stdout",
     "output_type": "stream",
     "text": [
      "Before swapping \n",
      "Value of x is : 50 \n",
      "Value of y is : 22\n",
      "After swapping \n",
      "Value of x is : 22 \n",
      "Value of y is : 50\n"
     ]
    }
   ],
   "source": [
    "x = 50\n",
    "y = 22\n",
    "print(\"Before swapping \\nValue of x is :\",x,\"\\nValue of y is :\",y)\n",
    "temp = x\n",
    "x = y\n",
    "y = temp\n",
    "print(\"After swapping \\nValue of x is :\",x,\"\\nValue of y is :\",y)"
   ]
  },
  {
   "cell_type": "markdown",
   "metadata": {},
   "source": [
    "# Question 4"
   ]
  },
  {
   "cell_type": "code",
   "execution_count": 8,
   "metadata": {},
   "outputs": [
    {
     "name": "stdout",
     "output_type": "stream",
     "text": [
      "Before swapping \n",
      "Value of x is : 10 \n",
      "Value of y is : 15\n",
      "After swapping \n",
      "Value of x is : 15 \n",
      "Value of y is : 10\n"
     ]
    }
   ],
   "source": [
    "x = 10 \n",
    "y = 15\n",
    "print(\"Before swapping \\nValue of x is :\",x,\"\\nValue of y is :\",y)\n",
    "x,y = y,x\n",
    "print(\"After swapping \\nValue of x is :\",x,\"\\nValue of y is :\",y)"
   ]
  },
  {
   "cell_type": "markdown",
   "metadata": {},
   "source": [
    "# Question 5"
   ]
  },
  {
   "cell_type": "code",
   "execution_count": 13,
   "metadata": {},
   "outputs": [
    {
     "name": "stdout",
     "output_type": "stream",
     "text": [
      "Temperature in Celsius is : 36.99999999999999 \n",
      "Temperature in Kelvin is : 310.15\n"
     ]
    }
   ],
   "source": [
    "Fahrenheit = 98.6\n",
    "Celsius = (Fahrenheit - 32)/1.8\n",
    "Kelvin = 273.15 + Celsius\n",
    "print(\"Temperature in Celsius is :\",Celsius, \"\\nTemperature in Kelvin is :\",Kelvin)"
   ]
  },
  {
   "cell_type": "markdown",
   "metadata": {},
   "source": [
    "# Question 6\n",
    "   Numbers"
   ]
  },
  {
   "cell_type": "code",
   "execution_count": 18,
   "metadata": {},
   "outputs": [
    {
     "name": "stdout",
     "output_type": "stream",
     "text": [
      "<class 'int'>\n",
      "<class 'float'>\n",
      "<class 'complex'>\n"
     ]
    }
   ],
   "source": [
    "num1 = 100\n",
    "num2 = 101.111\n",
    "num3 = 4 + 5j\n",
    "print(type(num1))\n",
    "print(type(num2))\n",
    "print(type(num3))"
   ]
  },
  {
   "cell_type": "markdown",
   "metadata": {},
   "source": [
    "# Question 6\n",
    "Strings"
   ]
  },
  {
   "cell_type": "code",
   "execution_count": 20,
   "metadata": {},
   "outputs": [
    {
     "name": "stdout",
     "output_type": "stream",
     "text": [
      "<class 'str'>\n"
     ]
    }
   ],
   "source": [
    "place = \"Mumbai\"\n",
    "print(type(place))"
   ]
  },
  {
   "cell_type": "markdown",
   "metadata": {},
   "source": [
    "# Question 6\n",
    "List"
   ]
  },
  {
   "cell_type": "code",
   "execution_count": 23,
   "metadata": {},
   "outputs": [
    {
     "name": "stdout",
     "output_type": "stream",
     "text": [
      "<class 'list'>\n",
      "<class 'list'>\n",
      "<class 'list'>\n",
      "[5, 10, 15, 20, 25, 'List']\n"
     ]
    }
   ],
   "source": [
    "a = [5,10,15,20,25,'List',35,'Python']\n",
    "print(type(a))\n",
    "print(type( a[5:]))\n",
    "print(type( a[0:3]))\n",
    "print(a[0:6])"
   ]
  },
  {
   "cell_type": "markdown",
   "metadata": {},
   "source": [
    "# Question 6\n",
    "Tuple"
   ]
  },
  {
   "cell_type": "code",
   "execution_count": 27,
   "metadata": {},
   "outputs": [
    {
     "name": "stdout",
     "output_type": "stream",
     "text": [
      "<class 'tuple'>\n",
      "t[1] =  program\n",
      "<class 'tuple'>\n",
      "t[0:3] =  (5, 'program', 2)\n",
      "<class 'tuple'>\n"
     ]
    }
   ],
   "source": [
    "t = (5,'program', 2, 1+3j)\n",
    "print(type(t))\n",
    "print(\"t[1] = \", t[1])\n",
    "print(type(t[1:]))\n",
    "print(\"t[0:3] = \", t[0:3])\n",
    "print(type(t[0:3]))"
   ]
  },
  {
   "cell_type": "markdown",
   "metadata": {},
   "source": [
    "# Question 6\n",
    "Dictionary"
   ]
  },
  {
   "cell_type": "code",
   "execution_count": 29,
   "metadata": {},
   "outputs": [
    {
     "name": "stdout",
     "output_type": "stream",
     "text": [
      "<class 'dict'>\n",
      "d[1] =  value\n",
      "d['key'] =  2\n"
     ]
    }
   ],
   "source": [
    "d = {1:'value','key':2}\n",
    "print(type(d))\n",
    "print(\"d[1] = \", d[1])\n",
    "print(\"d['key'] = \", d['key'])"
   ]
  },
  {
   "cell_type": "markdown",
   "metadata": {},
   "source": [
    "# Question 6 \n",
    "Sets"
   ]
  },
  {
   "cell_type": "code",
   "execution_count": 31,
   "metadata": {},
   "outputs": [
    {
     "name": "stdout",
     "output_type": "stream",
     "text": [
      "a =  {1, 2, 3, 4, 5}\n",
      "<class 'set'>\n"
     ]
    }
   ],
   "source": [
    "a = {5,2,3,1,4}\n",
    "print(\"a = \", a)\n",
    "print(type(a))"
   ]
  },
  {
   "cell_type": "markdown",
   "metadata": {},
   "source": [
    "# Question 7"
   ]
  },
  {
   "cell_type": "markdown",
   "metadata": {},
   "source": [
    "    1.Create a new github account by logging by your gmail account.\n",
    "    2.Create a new Repositories and name it LetsUpgrade_AI/ML and make it public.\n",
    "    3.Upload the existing file i.e. your assignment folder.\n",
    "    4.Provide the link of your uploaded folder in the assignment submission form.\n"
   ]
  }
 ],
 "metadata": {
  "kernelspec": {
   "display_name": "Python 3",
   "language": "python",
   "name": "python3"
  },
  "language_info": {
   "codemirror_mode": {
    "name": "ipython",
    "version": 3
   },
   "file_extension": ".py",
   "mimetype": "text/x-python",
   "name": "python",
   "nbconvert_exporter": "python",
   "pygments_lexer": "ipython3",
   "version": "3.7.6"
  }
 },
 "nbformat": 4,
 "nbformat_minor": 4
}
